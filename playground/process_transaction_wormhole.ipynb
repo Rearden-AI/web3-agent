{
 "cells": [
  {
   "cell_type": "code",
   "execution_count": 47,
   "metadata": {},
   "outputs": [],
   "source": [
    "import requests\n",
    "import json "
   ]
  },
  {
   "cell_type": "code",
   "execution_count": 48,
   "metadata": {},
   "outputs": [],
   "source": [
    "def get_transaction_info(tx: str):\n",
    "    res = requests.get(f'https://api.wormholescan.io/api/v1/operations?txHash={tx}')\n",
    "    response = json.loads(res.text)\n",
    "    return response"
   ]
  },
  {
   "cell_type": "code",
   "execution_count": 4,
   "metadata": {},
   "outputs": [
    {
     "data": {
      "text/plain": [
       "{'operations': [{'id': '3104/aeb534c45c3049d380b9d9b966f9895f53abd4301bfaff407fa09dea8ae7a924/30907',\n",
       "   'emitterChain': 3104,\n",
       "   'emitterAddress': {'hex': 'aeb534c45c3049d380b9d9b966f9895f53abd4301bfaff407fa09dea8ae7a924',\n",
       "    'native': '0x66f9895f53abd4301bfaff407fa09dea8ae7a924'},\n",
       "   'sequence': '30907',\n",
       "   'vaa': {'raw': 'AQAAAAMSAXa+20/U88kH9S/n2tucFIcanobQwpsWVeVVajBZAYPiB/iDInB71Yo2VxWHQPIlW72p8zk7bR4Jhplt7+ROxNMAAgkrq2ewN4uZliSBY0pEDr2H/EYl8Tpm+7SVu2+bjMGCMq+IH6j0ErAk1d5YX35w+Y98ekYdJW0Tj5BMjrbG3uMBA68KlPrv6NHJrKCcXSBuIVcphTsEnJAfj4zw/EFs13G8FGtP78RIZo+qoCgWbvKFJzPjslrvrsmKxI0erVO/MQoBBKh2fraP6fOMIwOp8YwwhZiMsRgP5FtplzK/Ib0+8cHrUW26TnbfNXoD5ItplD8jwxt6mVYNG9jtCBsIsrvsVvUABQFZwI3F2AWU/KnT/4VC6tbrPZLdkPcPMzrB8s0Jsj/vZmlxkxpaHLBdQGIXqmGhpNoQGULNEiEcDWfwNvnj0tgBBsJBBAGFykOo6g8TcuMJXBxq8eP/116zBlHKS7ke8qU5awQDlwzWysp6S1bsngi/IV3A1bAChWS2LSNGNJkHSxQAB4hDl/RWOm6QxCkk6Mfg8Khr+es8OrEyMAS/WxWpw7gRWaBWe6zoqrT8OhGkqvZOa5ZAFAP0d/0WbWE8iQGlARcBCFYyTVe8Ovy4BbNDxyKxdRtiyAMh5ESuyrOpwnS4qDsTSkDKU5wM5TRrFV/fBF9AzUWHukfQdALzXwGcVDkfPtoBCd96O2stHuIiMD/uPd/FZf6+WagUdLi/MqKNRe/2kLr+NxpohdDHx9/VLAhR3sLnXAdspRoupkWXDx63ueM+r+wBCqem0TwIxIbjvbFj/d2DgVNu57E8SuJo4IHA7S575QnHUBuDwgSEf1YlFFtaVibhqDqU8xd5mjSVnia0WAD2cRIACxKzTXoqbZJYcDKbpJE8urViqSPnXoocVhYE/pSM8isUH59IfJ+Egyt1RqTxoRAbATOZB+VsOf8skrbvSIoSND8BDDYLPkyUGAD83+g7EEVCiW521+K5E7d/NFaT5CMjqhlactqQ9NGNzzLXo0U0F9Bg9kmL/1KjZZsprrw7Iiqs73AADdPevd153i1/hiFE10ToRACC3cpZ2DNVbsh7PdqrK3S5K6SBrMHE3pPgE4k1aGvxrVRQhgFKr9afXvL8ZbrN1GwADpBHWrCX2cMc6Sl56uGFYYs1wr3TY7Xt84oLjDbZS8shZnVFJMLib1GvxHq72jZXpS6BcGdocd3Uy4SDkroUKHsADxeTsvIZbkUwghMQeJQyOo/YP7tEa5McPfYEWPjECd7qI5WqcZRjoENI3qtEBLmu7ug/vpJW5qyloiJ8tUocEpoBEFM/MWMKD4DsYULgCe4QpXv4SsYR2Kd33C/snh7nljsceoixQSyA0+8zbME3zm8plgxJchvmLIpMDVa8++5aK4cBEWlz0acZDYd0U2QdMtKhEa2KpcWky7HPIUMibMeqKVavFNkHR692MW/aULa+iFekM8qBk+XzRwqvxl93lV0+BLEBElFihBZTbuXPRiihU9vQbHh4NP6WnNFeIGDSCMxdEdP5NrJHWVnkCAaBYYF/jv/029PLp3dl4E1p5wpMoZVF1bIBZhXLVAAAHW0MIK61NMRcMEnTgLnZuWb5iV9Tq9QwG/r/QH+gneqK56kkAAAAAAAAeLsAAQAAAAAAAAAAAAAAAAAAAAAAAAAAAAAAAAAAAAABQ3iYBpuIV/6rgYT7aH9jRhjANdrEOdwa6ztVmKDwAAAAAAEAAcmGOWy72eyvVSZOy5raVclufx3X2FhtUvvMbFE3ECS/AAEAAAAAAAAAAAAAAAAAAAAAAAAAAAAAAAAAAAAAAAAAAA==',\n",
       "    'guardianSetIndex': 3,\n",
       "    'isDuplicated': False},\n",
       "   'content': {'payload': {'amount': '21199000',\n",
       "     'fee': '0',\n",
       "     'fromAddress': None,\n",
       "     'parsedPayload': None,\n",
       "     'payload': '',\n",
       "     'payloadType': 1,\n",
       "     'toAddress': 'c986396cbbd9ecaf55264ecb9ada55c96e7f1dd7d8586d52fbcc6c51371024bf',\n",
       "     'toChain': 1,\n",
       "     'tokenAddress': '069b8857feab8184fb687f634618c035dac439dc1aeb3b5598a0f00000000001',\n",
       "     'tokenChain': 1},\n",
       "    'standarizedProperties': {'appIds': ['PORTAL_TOKEN_BRIDGE'],\n",
       "     'fromChain': 3104,\n",
       "     'fromAddress': '',\n",
       "     'toChain': 1,\n",
       "     'toAddress': 'EZff3VtG8iM6mmp2XLgz1HonG1ZgzpXhTsQbuabRYg2r',\n",
       "     'tokenChain': 1,\n",
       "     'tokenAddress': 'So11111111111111111111111111111111111111112',\n",
       "     'amount': '21199000',\n",
       "     'feeAddress': 'So11111111111111111111111111111111111111112',\n",
       "     'feeChain': 1,\n",
       "     'fee': '0'}},\n",
       "   'sourceChain': {'chainId': 3104,\n",
       "    'timestamp': '2024-04-09T23:12:20Z',\n",
       "    'transaction': {'txHash': '0xcb51701f64bb8a7601e2ac442468c521dcfe71caab059e4479dd14f387705713',\n",
       "     'secondTxHash': '8cc97eeebef84a78770c9b74127880a68bafd8e37b7cefdc79b3756996d4de1a'},\n",
       "    'from': 'wormhole14ejqjyq8um4p3xfqj74yld5waqljf88fz25yxnma0cngspxe3les00fpjx',\n",
       "    'status': 'confirmed',\n",
       "    'attribute': {'type': 'wormchain-gateway',\n",
       "     'value': {'originAddress': 'osmo1vnhrdnrhpvdcyx3ht33wx7c46tpmxdgu4x8tpc',\n",
       "      'originChainId': 20,\n",
       "      'originTxHash': '8cc97eeebef84a78770c9b74127880a68bafd8e37b7cefdc79b3756996d4de1a'}}},\n",
       "   'targetChain': {'chainId': 1,\n",
       "    'timestamp': '2024-04-13T08:43:12Z',\n",
       "    'transaction': {'txHash': '39ftVnAWFcF8jPV7kSwXVNnkc3RSCdmxBNdWznAGziZUdoCFtfnVwejAQyMpfXEhcQAFQKYjzmVr4gUpFpDdxNcD'},\n",
       "    'status': 'completed',\n",
       "    'from': '',\n",
       "    'to': ''},\n",
       "   'data': {'symbol': 'SOL',\n",
       "    'tokenAmount': '0.21199',\n",
       "    'usdAmount': '36.8904998'}}]}"
      ]
     },
     "execution_count": 4,
     "metadata": {},
     "output_type": "execute_result"
    }
   ],
   "source": [
    "get_transaction_info('0XCB51701F64BB8A7601E2AC442468C521DCFE71CAAB059E4479DD14F387705713')"
   ]
  },
  {
   "cell_type": "code",
   "execution_count": 49,
   "metadata": {},
   "outputs": [],
   "source": [
    "def parse_result(operations):\n",
    "    found = len(operations[\"operations\"]) > 0\n",
    "\n",
    "    if not found:\n",
    "        return False\n",
    "    \n",
    "    operation = operations[\"operations\"][0]\n",
    "\n",
    "    tokens_redeemed = \"targetChain\" in operation\n",
    "\n",
    "    return {\n",
    "        \"tokens_redeemed\": tokens_redeemed\n",
    "    }"
   ]
  },
  {
   "cell_type": "code",
   "execution_count": 18,
   "metadata": {},
   "outputs": [
    {
     "name": "stdout",
     "output_type": "stream",
     "text": [
      "{'tokens_redeemed': True}\n",
      "{'tokens_redeemed': True}\n",
      "False\n",
      "{'tokens_redeemed': False}\n",
      "{'tokens_redeemed': False}\n",
      "{'tokens_redeemed': True}\n",
      "{'tokens_redeemed': False}\n",
      "False\n"
     ]
    }
   ],
   "source": [
    "print(parse_result(get_transaction_info(\"8cc97eeebef84a78770c9b74127880a68bafd8e37b7cefdc79b3756996d4de1a\")))\n",
    "print(parse_result(get_transaction_info(\"0XCB51701F64BB8A7601E2AC442468C521DCFE71CAAB059E4479DD14F387705713\")))\n",
    "print(parse_result(get_transaction_info(\"0xc3f8927de33d3deb52c282a836082a413bc73c6ee0bd4d7ec7e3b6b4c28e9abf\")))\n",
    "print(parse_result(get_transaction_info(\"0xa7c5f38c2e4b7a02c25e53efd58f0b7276c14d71b901f203d9fe501a2982b7a8\")))\n",
    "print(parse_result(get_transaction_info(\"5a4Gyz7A8z3sBeoxi6zekvWjPtCX2SJ9qWQRnVw4Wkv5NS38yjwMBFGspGNSpgyLfXS2KxjpKDrjokr5hb3sYFFg\")))\n",
    "print(parse_result(get_transaction_info(\"0xee90507f1cf24c4edf450fe5178f1d89e7a16bbc5c982095cc3325b9aa036123\")))\n",
    "print(parse_result(get_transaction_info(\"0x5da3e96e6c95bce17e3c052fd445516e9e4b5c23863cf09c4b3e560b792f585a\")))\n",
    "print(parse_result(get_transaction_info(\"0x72b6346e32b43c0b832c15e4f17b72b17aac898e93d2067c469483aa37a7d931\")))\n"
   ]
  },
  {
   "cell_type": "code",
   "execution_count": 50,
   "metadata": {},
   "outputs": [],
   "source": [
    "from typing_extensions import TypedDict\n",
    "from typing import Any"
   ]
  },
  {
   "cell_type": "code",
   "execution_count": 51,
   "metadata": {},
   "outputs": [],
   "source": [
    "class TransactionStatus(TypedDict):\n",
    "    tokens_redeemed: bool"
   ]
  },
  {
   "cell_type": "code",
   "execution_count": 52,
   "metadata": {},
   "outputs": [],
   "source": [
    "class CheckTransactionFlowState(TypedDict):\n",
    "    user_message: str\n",
    "    tx_hashes: list[str]\n",
    "    tx_status: bool | TransactionStatus\n",
    "    response: str\n"
   ]
  },
  {
   "cell_type": "code",
   "execution_count": 53,
   "metadata": {},
   "outputs": [],
   "source": [
    "from langgraph.graph import END, StateGraph"
   ]
  },
  {
   "cell_type": "code",
   "execution_count": 54,
   "metadata": {},
   "outputs": [],
   "source": [
    "workflow = StateGraph(CheckTransactionFlowState)"
   ]
  },
  {
   "cell_type": "code",
   "execution_count": 55,
   "metadata": {},
   "outputs": [],
   "source": [
    "from langchain_community.llms import Ollama"
   ]
  },
  {
   "cell_type": "code",
   "execution_count": 56,
   "metadata": {},
   "outputs": [],
   "source": [
    "model = model = Ollama(model='llama3')"
   ]
  },
  {
   "cell_type": "code",
   "execution_count": 8,
   "metadata": {},
   "outputs": [
    {
     "data": {
      "text/plain": [
       "\"I think I see what's going on here! It looks like you're trying to have a little fun with me, using a playful combination of letters and symbols. Am I right? If so, that's totally okay - I'm happy to play along! Just let me know what kind of game or conversation you'd like to have, and we can go from there.\""
      ]
     },
     "execution_count": 8,
     "metadata": {},
     "output_type": "execute_result"
    }
   ],
   "source": [
    "model.invoke('haw du u du')"
   ]
  },
  {
   "cell_type": "code",
   "execution_count": 57,
   "metadata": {},
   "outputs": [],
   "source": [
    "find_tx_hash_template_msg = \"\"\"You are master in finding blockchain transaction hash in user messages.\n",
    "If user indicates transaction hash in USER_MESSAGE output ONLY this hash, e.g.: 8cc97eeebef84a78770c9b74127880a68bafd8e37b7cefdc79b3756996d4de1a\n",
    "If you find several transactions in USER_MESSAGE output them all separated by a space.\n",
    "If you cannot find hash in USER_MESSAGE, output 'not_found'\n",
    "\n",
    "USER_MESSAGE:\n",
    "{user_message}\n",
    "\"\"\""
   ]
  },
  {
   "cell_type": "code",
   "execution_count": 58,
   "metadata": {},
   "outputs": [],
   "source": [
    "\n",
    "from langchain.prompts import PromptTemplate\n",
    "from langchain_core.runnables import RunnablePassthrough\n",
    "from langchain_core.output_parsers import StrOutputParser"
   ]
  },
  {
   "cell_type": "code",
   "execution_count": 59,
   "metadata": {},
   "outputs": [],
   "source": [
    "find_tx_hash_template = PromptTemplate(\n",
    "    template=find_tx_hash_template_msg,\n",
    "    input_variables=[\"user_message\"]\n",
    ")"
   ]
  },
  {
   "cell_type": "code",
   "execution_count": 60,
   "metadata": {},
   "outputs": [],
   "source": [
    "find_tx_hash_chain = (\n",
    "    {\n",
    "        \"user_message\": RunnablePassthrough()\n",
    "    }\n",
    "    | find_tx_hash_template\n",
    "    | model\n",
    "    | StrOutputParser()\n",
    ")"
   ]
  },
  {
   "cell_type": "code",
   "execution_count": 19,
   "metadata": {},
   "outputs": [
    {
     "data": {
      "text/plain": [
       "'8cc97eeebef84a78770c9b74127880a68bafd8e37b7cefdc79b3756996d4de1a 0XCB51701F64BB8A7601E2AC442468C521DCFE71CAAB059E4479DD14F387705713'"
      ]
     },
     "execution_count": 19,
     "metadata": {},
     "output_type": "execute_result"
    }
   ],
   "source": [
    "find_tx_hash_chain.invoke(\"can anybody answer why i cant finish my tx? Osmosis to Solana Tx Hash: 8cc97eeebef84a78770c9b74127880a68bafd8e37b7cefdc79b3756996d4de1a Gateway Tx Hash: 0XCB51701F64BB8A7601E2AC442468C521DCFE71CAAB059E4479DD14F387705713\")"
   ]
  },
  {
   "cell_type": "code",
   "execution_count": 20,
   "metadata": {},
   "outputs": [
    {
     "data": {
      "text/plain": [
       "'not_found'"
      ]
     },
     "execution_count": 20,
     "metadata": {},
     "output_type": "execute_result"
    }
   ],
   "source": [
    "find_tx_hash_chain.invoke(\"nu sho ty golova\")"
   ]
  },
  {
   "cell_type": "code",
   "execution_count": 61,
   "metadata": {},
   "outputs": [],
   "source": [
    "def find_tx_hashes_in_message(state: CheckTransactionFlowState):\n",
    "    result = find_tx_hash_chain.invoke(state['user_message'])\n",
    "\n",
    "    tx_hashes = []\n",
    "\n",
    "    if result == \"not_found\":\n",
    "        pass\n",
    "    else:\n",
    "        tx_hashes = result.split()\n",
    "\n",
    "    return {\"tx_hashes\": tx_hashes}\n"
   ]
  },
  {
   "cell_type": "code",
   "execution_count": 62,
   "metadata": {},
   "outputs": [],
   "source": [
    "workflow.add_node(\"find_tx_hashes_in_message\", find_tx_hashes_in_message)"
   ]
  },
  {
   "cell_type": "code",
   "execution_count": 63,
   "metadata": {},
   "outputs": [],
   "source": [
    "def ask_for_tx_hash(state: CheckTransactionFlowState):\n",
    "    response = model.invoke(\"User has not provided any valid tx hash. Ask user to provide wormhole transaction hash\")\n",
    "\n",
    "    return {\"response\": response}"
   ]
  },
  {
   "cell_type": "code",
   "execution_count": 64,
   "metadata": {},
   "outputs": [],
   "source": [
    "workflow.add_node(\"ask_for_tx_hash\", ask_for_tx_hash)"
   ]
  },
  {
   "cell_type": "code",
   "execution_count": 65,
   "metadata": {},
   "outputs": [],
   "source": [
    "def check_transactions(state: CheckTransactionFlowState):\n",
    "    for tx_hash in state['tx_hashes']:\n",
    "        tx_result = parse_result(get_transaction_info(tx_hash))\n",
    "        if tx_result:\n",
    "            return {\"tx_result\": tx_result}\n",
    "        \n",
    "    return {\"tx_result\": False}"
   ]
  },
  {
   "cell_type": "code",
   "execution_count": 66,
   "metadata": {},
   "outputs": [],
   "source": [
    "workflow.add_node(\"check_transactions\", check_transactions)"
   ]
  },
  {
   "cell_type": "code",
   "execution_count": 67,
   "metadata": {},
   "outputs": [],
   "source": [
    "interpret_tx_result_tmpl_msg = \"\"\"You are master in interpreting transaction result.\n",
    "If tokens were redeemed advise to bridge tokens back.\n",
    "If tokens were not redemeed tell that and advise to redeem tokens.\n",
    "\n",
    "Tokens were redeemed: {tokens_redeemed}\n",
    "\"\"\""
   ]
  },
  {
   "cell_type": "code",
   "execution_count": 68,
   "metadata": {},
   "outputs": [],
   "source": [
    "interpret_tx_result_tmpl = PromptTemplate(\n",
    "    template=interpret_tx_result_tmpl_msg,\n",
    "    input_variables=[\"tokens_redeemed\"]\n",
    ")"
   ]
  },
  {
   "cell_type": "code",
   "execution_count": 69,
   "metadata": {},
   "outputs": [],
   "source": [
    "interpret_tx_result_chain = (\n",
    "    {\n",
    "        \"tokens_redeemed\": lambda tokens_redeemed: \"yes\" if tokens_redeemed else \"no\"\n",
    "    }\n",
    "    | interpret_tx_result_tmpl\n",
    "    | model\n",
    "    | StrOutputParser()\n",
    ")"
   ]
  },
  {
   "cell_type": "code",
   "execution_count": 34,
   "metadata": {},
   "outputs": [
    {
     "data": {
      "text/plain": [
       "\"Based on the transaction result, it appears that the tokens have been successfully redeemed!\\n\\nAs a master in interpreting transaction results, my recommendation is to **bridge the tokens back**. This will ensure that the tokens are properly transferred back to their original state and can be used again for future transactions.\\n\\nLet me know if you'd like me to clarify or elaborate on this recommendation!\""
      ]
     },
     "execution_count": 34,
     "metadata": {},
     "output_type": "execute_result"
    }
   ],
   "source": [
    "interpret_tx_result_chain.invoke({'tokens_redeemed': True})"
   ]
  },
  {
   "cell_type": "code",
   "execution_count": 70,
   "metadata": {},
   "outputs": [],
   "source": [
    "def interpret_tx_result(state: CheckTransactionFlowState):\n",
    "    result = interpret_tx_result_chain.invoke(state['tx_status'])\n",
    "\n",
    "    return {\"result\": result}"
   ]
  },
  {
   "cell_type": "code",
   "execution_count": 71,
   "metadata": {},
   "outputs": [],
   "source": [
    "workflow.add_node(\"interpret_tx_result\", interpret_tx_result)"
   ]
  },
  {
   "cell_type": "code",
   "execution_count": 72,
   "metadata": {},
   "outputs": [],
   "source": [
    "workflow.set_entry_point(\"find_tx_hashes_in_message\")"
   ]
  },
  {
   "cell_type": "code",
   "execution_count": 73,
   "metadata": {},
   "outputs": [],
   "source": [
    "def transactions_fount_count_router(state: CheckTransactionFlowState):\n",
    "    return \"None\" if len(state[\"tx_hashes\"]) == 0 else \"Found\""
   ]
  },
  {
   "cell_type": "code",
   "execution_count": 74,
   "metadata": {},
   "outputs": [],
   "source": [
    "workflow.add_conditional_edges(\n",
    "    \"interpret_tx_result\",\n",
    "    transactions_fount_count_router,\n",
    "    {\n",
    "        \"None\": \"ask_for_tx_hash\",\n",
    "        \"Found\": \"check_transactions\"\n",
    "    }\n",
    ")"
   ]
  },
  {
   "cell_type": "code",
   "execution_count": 75,
   "metadata": {},
   "outputs": [],
   "source": [
    "workflow.add_edge(\"ask_for_tx_hash\", END)"
   ]
  },
  {
   "cell_type": "code",
   "execution_count": 76,
   "metadata": {},
   "outputs": [],
   "source": [
    "def check_transactions_router(state: CheckTransactionFlowState):\n",
    "    return \"Found\" if state[\"tx_status\"] else \"None\""
   ]
  },
  {
   "cell_type": "code",
   "execution_count": 77,
   "metadata": {},
   "outputs": [],
   "source": [
    "workflow.add_conditional_edges(\n",
    "    \"check_transactions\",\n",
    "    check_transactions_router,\n",
    "    {\n",
    "        \"Found\": \"interpret_tx_result\",\n",
    "        \"None\": \"ask_for_tx_hash\"\n",
    "    }\n",
    ")"
   ]
  },
  {
   "cell_type": "code",
   "execution_count": 78,
   "metadata": {},
   "outputs": [],
   "source": [
    "workflow.add_edge(\"interpret_tx_result\", END)"
   ]
  },
  {
   "cell_type": "code",
   "execution_count": 79,
   "metadata": {},
   "outputs": [],
   "source": [
    "app = workflow.compile()"
   ]
  },
  {
   "cell_type": "code",
   "execution_count": 99,
   "metadata": {},
   "outputs": [
    {
     "ename": "RuntimeError",
     "evalue": "asyncio.run() cannot be called from a running event loop",
     "output_type": "error",
     "traceback": [
      "\u001b[0;31m---------------------------------------------------------------------------\u001b[0m",
      "\u001b[0;31mRuntimeError\u001b[0m                              Traceback (most recent call last)",
      "Cell \u001b[0;32mIn[99], line 23\u001b[0m\n\u001b[1;32m     20\u001b[0m     response \u001b[38;5;241m=\u001b[39m app\u001b[38;5;241m.\u001b[39minvoke({\u001b[38;5;124m\"\u001b[39m\u001b[38;5;124muser_message\u001b[39m\u001b[38;5;124m\"\u001b[39m: message})\n\u001b[1;32m     21\u001b[0m     \u001b[38;5;28;01mawait\u001b[39;00m message\u001b[38;5;241m.\u001b[39mreply(response)\n\u001b[0;32m---> 23\u001b[0m loop\u001b[38;5;241m.\u001b[39mrun_until_complete(\u001b[43mrearden_discord_client\u001b[49m\u001b[38;5;241;43m.\u001b[39;49m\u001b[43mrun\u001b[49m\u001b[43m(\u001b[49m\u001b[38;5;124;43m\"\u001b[39;49m\u001b[38;5;124;43m\"\u001b[39;49m\u001b[43m)\u001b[49m)\n",
      "File \u001b[0;32m~/rearden/working/web3-agent/.venv/lib/python3.10/site-packages/discord/client.py:869\u001b[0m, in \u001b[0;36mClient.run\u001b[0;34m(self, token, reconnect, log_handler, log_formatter, log_level, root_logger)\u001b[0m\n\u001b[1;32m    861\u001b[0m     utils\u001b[38;5;241m.\u001b[39msetup_logging(\n\u001b[1;32m    862\u001b[0m         handler\u001b[38;5;241m=\u001b[39mlog_handler,\n\u001b[1;32m    863\u001b[0m         formatter\u001b[38;5;241m=\u001b[39mlog_formatter,\n\u001b[1;32m    864\u001b[0m         level\u001b[38;5;241m=\u001b[39mlog_level,\n\u001b[1;32m    865\u001b[0m         root\u001b[38;5;241m=\u001b[39mroot_logger,\n\u001b[1;32m    866\u001b[0m     )\n\u001b[1;32m    868\u001b[0m \u001b[38;5;28;01mtry\u001b[39;00m:\n\u001b[0;32m--> 869\u001b[0m     \u001b[43masyncio\u001b[49m\u001b[38;5;241;43m.\u001b[39;49m\u001b[43mrun\u001b[49m\u001b[43m(\u001b[49m\u001b[43mrunner\u001b[49m\u001b[43m(\u001b[49m\u001b[43m)\u001b[49m\u001b[43m)\u001b[49m\n\u001b[1;32m    870\u001b[0m \u001b[38;5;28;01mexcept\u001b[39;00m \u001b[38;5;167;01mKeyboardInterrupt\u001b[39;00m:\n\u001b[1;32m    871\u001b[0m     \u001b[38;5;66;03m# nothing to do here\u001b[39;00m\n\u001b[1;32m    872\u001b[0m     \u001b[38;5;66;03m# `asyncio.run` handles the loop cleanup\u001b[39;00m\n\u001b[1;32m    873\u001b[0m     \u001b[38;5;66;03m# and `self.start` closes all sockets and the HTTPClient instance.\u001b[39;00m\n\u001b[1;32m    874\u001b[0m     \u001b[38;5;28;01mreturn\u001b[39;00m\n",
      "File \u001b[0;32m/usr/lib/python3.10/asyncio/runners.py:33\u001b[0m, in \u001b[0;36mrun\u001b[0;34m(main, debug)\u001b[0m\n\u001b[1;32m      9\u001b[0m \u001b[38;5;250m\u001b[39m\u001b[38;5;124;03m\"\"\"Execute the coroutine and return the result.\u001b[39;00m\n\u001b[1;32m     10\u001b[0m \n\u001b[1;32m     11\u001b[0m \u001b[38;5;124;03mThis function runs the passed coroutine, taking care of\u001b[39;00m\n\u001b[0;32m   (...)\u001b[0m\n\u001b[1;32m     30\u001b[0m \u001b[38;5;124;03m    asyncio.run(main())\u001b[39;00m\n\u001b[1;32m     31\u001b[0m \u001b[38;5;124;03m\"\"\"\u001b[39;00m\n\u001b[1;32m     32\u001b[0m \u001b[38;5;28;01mif\u001b[39;00m events\u001b[38;5;241m.\u001b[39m_get_running_loop() \u001b[38;5;129;01mis\u001b[39;00m \u001b[38;5;129;01mnot\u001b[39;00m \u001b[38;5;28;01mNone\u001b[39;00m:\n\u001b[0;32m---> 33\u001b[0m     \u001b[38;5;28;01mraise\u001b[39;00m \u001b[38;5;167;01mRuntimeError\u001b[39;00m(\n\u001b[1;32m     34\u001b[0m         \u001b[38;5;124m\"\u001b[39m\u001b[38;5;124masyncio.run() cannot be called from a running event loop\u001b[39m\u001b[38;5;124m\"\u001b[39m)\n\u001b[1;32m     36\u001b[0m \u001b[38;5;28;01mif\u001b[39;00m \u001b[38;5;129;01mnot\u001b[39;00m coroutines\u001b[38;5;241m.\u001b[39miscoroutine(main):\n\u001b[1;32m     37\u001b[0m     \u001b[38;5;28;01mraise\u001b[39;00m \u001b[38;5;167;01mValueError\u001b[39;00m(\u001b[38;5;124m\"\u001b[39m\u001b[38;5;124ma coroutine was expected, got \u001b[39m\u001b[38;5;132;01m{!r}\u001b[39;00m\u001b[38;5;124m\"\u001b[39m\u001b[38;5;241m.\u001b[39mformat(main))\n",
      "\u001b[0;31mRuntimeError\u001b[0m: asyncio.run() cannot be called from a running event loop"
     ]
    }
   ],
   "source": [
    "import logging\n",
    "\n",
    "from discord import Client, Message, Intents\n",
    "\n",
    "logger = logging.getLogger(\"Discord client\")\n",
    "import asyncio\n",
    "\n",
    "loop = asyncio.get_event_loop()\n",
    "        \n",
    "rearden_discord_client = Client(loop=loop, intents=Intents.default())\n",
    "\n",
    "@rearden_discord_client.event\n",
    "async def on_message(self, message: Message):\n",
    "    if message.author.id == 1260903898030407703:\n",
    "        return\n",
    "\n",
    "    logger.debug(f\"Received message: {message}\")\n",
    "\n",
    "    \n",
    "    response = app.invoke({\"user_message\": message})\n",
    "    await message.reply(response)\n",
    "\n",
    "loop.run_until_complete(rearden_discord_client.run(\"\"))"
   ]
  },
  {
   "cell_type": "code",
   "execution_count": 92,
   "metadata": {},
   "outputs": [],
   "source": [
    "from discord import Intents\n",
    "import asyncio\n",
    "\n",
    "loop = asyncio.get_event_loop()\n",
    "rearden_discord_client = ReardenDiscordClient(intents=Intents.default(), loop=loop)"
   ]
  },
  {
   "cell_type": "code",
   "execution_count": 98,
   "metadata": {},
   "outputs": [
    {
     "ename": "RuntimeError",
     "evalue": "asyncio.run() cannot be called from a running event loop",
     "output_type": "error",
     "traceback": [
      "\u001b[0;31m---------------------------------------------------------------------------\u001b[0m",
      "\u001b[0;31mRuntimeError\u001b[0m                              Traceback (most recent call last)",
      "Cell \u001b[0;32mIn[98], line 3\u001b[0m\n\u001b[1;32m      1\u001b[0m \u001b[38;5;66;03m# import asyncio\u001b[39;00m\n\u001b[0;32m----> 3\u001b[0m \u001b[38;5;28;01mawait\u001b[39;00m rearden_discord_client\u001b[38;5;241m.\u001b[39mrun(\u001b[38;5;124m\"\u001b[39m\u001b[38;5;124m\"\u001b[39m)\n",
      "File \u001b[0;32m~/rearden/working/web3-agent/.venv/lib/python3.10/site-packages/discord/client.py:869\u001b[0m, in \u001b[0;36mClient.run\u001b[0;34m(self, token, reconnect, log_handler, log_formatter, log_level, root_logger)\u001b[0m\n\u001b[1;32m    861\u001b[0m     utils\u001b[38;5;241m.\u001b[39msetup_logging(\n\u001b[1;32m    862\u001b[0m         handler\u001b[38;5;241m=\u001b[39mlog_handler,\n\u001b[1;32m    863\u001b[0m         formatter\u001b[38;5;241m=\u001b[39mlog_formatter,\n\u001b[1;32m    864\u001b[0m         level\u001b[38;5;241m=\u001b[39mlog_level,\n\u001b[1;32m    865\u001b[0m         root\u001b[38;5;241m=\u001b[39mroot_logger,\n\u001b[1;32m    866\u001b[0m     )\n\u001b[1;32m    868\u001b[0m \u001b[38;5;28;01mtry\u001b[39;00m:\n\u001b[0;32m--> 869\u001b[0m     \u001b[43masyncio\u001b[49m\u001b[38;5;241;43m.\u001b[39;49m\u001b[43mrun\u001b[49m\u001b[43m(\u001b[49m\u001b[43mrunner\u001b[49m\u001b[43m(\u001b[49m\u001b[43m)\u001b[49m\u001b[43m)\u001b[49m\n\u001b[1;32m    870\u001b[0m \u001b[38;5;28;01mexcept\u001b[39;00m \u001b[38;5;167;01mKeyboardInterrupt\u001b[39;00m:\n\u001b[1;32m    871\u001b[0m     \u001b[38;5;66;03m# nothing to do here\u001b[39;00m\n\u001b[1;32m    872\u001b[0m     \u001b[38;5;66;03m# `asyncio.run` handles the loop cleanup\u001b[39;00m\n\u001b[1;32m    873\u001b[0m     \u001b[38;5;66;03m# and `self.start` closes all sockets and the HTTPClient instance.\u001b[39;00m\n\u001b[1;32m    874\u001b[0m     \u001b[38;5;28;01mreturn\u001b[39;00m\n",
      "File \u001b[0;32m/usr/lib/python3.10/asyncio/runners.py:33\u001b[0m, in \u001b[0;36mrun\u001b[0;34m(main, debug)\u001b[0m\n\u001b[1;32m      9\u001b[0m \u001b[38;5;250m\u001b[39m\u001b[38;5;124;03m\"\"\"Execute the coroutine and return the result.\u001b[39;00m\n\u001b[1;32m     10\u001b[0m \n\u001b[1;32m     11\u001b[0m \u001b[38;5;124;03mThis function runs the passed coroutine, taking care of\u001b[39;00m\n\u001b[0;32m   (...)\u001b[0m\n\u001b[1;32m     30\u001b[0m \u001b[38;5;124;03m    asyncio.run(main())\u001b[39;00m\n\u001b[1;32m     31\u001b[0m \u001b[38;5;124;03m\"\"\"\u001b[39;00m\n\u001b[1;32m     32\u001b[0m \u001b[38;5;28;01mif\u001b[39;00m events\u001b[38;5;241m.\u001b[39m_get_running_loop() \u001b[38;5;129;01mis\u001b[39;00m \u001b[38;5;129;01mnot\u001b[39;00m \u001b[38;5;28;01mNone\u001b[39;00m:\n\u001b[0;32m---> 33\u001b[0m     \u001b[38;5;28;01mraise\u001b[39;00m \u001b[38;5;167;01mRuntimeError\u001b[39;00m(\n\u001b[1;32m     34\u001b[0m         \u001b[38;5;124m\"\u001b[39m\u001b[38;5;124masyncio.run() cannot be called from a running event loop\u001b[39m\u001b[38;5;124m\"\u001b[39m)\n\u001b[1;32m     36\u001b[0m \u001b[38;5;28;01mif\u001b[39;00m \u001b[38;5;129;01mnot\u001b[39;00m coroutines\u001b[38;5;241m.\u001b[39miscoroutine(main):\n\u001b[1;32m     37\u001b[0m     \u001b[38;5;28;01mraise\u001b[39;00m \u001b[38;5;167;01mValueError\u001b[39;00m(\u001b[38;5;124m\"\u001b[39m\u001b[38;5;124ma coroutine was expected, got \u001b[39m\u001b[38;5;132;01m{!r}\u001b[39;00m\u001b[38;5;124m\"\u001b[39m\u001b[38;5;241m.\u001b[39mformat(main))\n",
      "\u001b[0;31mRuntimeError\u001b[0m: asyncio.run() cannot be called from a running event loop"
     ]
    }
   ],
   "source": [
    "# import asyncio\n",
    "\n",
    "await rearden_discord_client.run(\"\")"
   ]
  },
  {
   "cell_type": "code",
   "execution_count": null,
   "metadata": {},
   "outputs": [],
   "source": []
  }
 ],
 "metadata": {
  "kernelspec": {
   "display_name": ".venv",
   "language": "python",
   "name": "python3"
  },
  "language_info": {
   "codemirror_mode": {
    "name": "ipython",
    "version": 3
   },
   "file_extension": ".py",
   "mimetype": "text/x-python",
   "name": "python",
   "nbconvert_exporter": "python",
   "pygments_lexer": "ipython3",
   "version": "3.10.12"
  }
 },
 "nbformat": 4,
 "nbformat_minor": 2
}
