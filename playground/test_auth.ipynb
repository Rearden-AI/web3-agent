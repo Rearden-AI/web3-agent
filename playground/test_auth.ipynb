{
 "cells": [
  {
   "cell_type": "code",
   "execution_count": 1,
   "metadata": {},
   "outputs": [],
   "source": [
    "# messsage = \n",
    "signature = '0x2c4938c6e7f4cc2e461ae5f923910f31ab4601aa58c7fe637e923c092bc3486f4a2e568323fbb67402ac299e40e59c984965a7dfd1adc98f8245c383ebea603e1c'"
   ]
  },
  {
   "cell_type": "code",
   "execution_count": 3,
   "metadata": {},
   "outputs": [],
   "source": [
    "from eth_account import Account\n",
    "from eth_account.messages import encode_defunct"
   ]
  },
  {
   "cell_type": "code",
   "execution_count": 4,
   "metadata": {},
   "outputs": [],
   "source": [
    "\n",
    "\n",
    "class BadSignatureError(Exception):\n",
    "    \"\"\"\n",
    "    The signature of a message is invalid.\n",
    "    \"\"\"\n",
    "\n",
    "    pass"
   ]
  },
  {
   "cell_type": "code",
   "execution_count": 7,
   "metadata": {},
   "outputs": [],
   "source": [
    "from typing import Union\n",
    "\n",
    "from eth_keys.exceptions import BadSignature as EthBadSignatureError\n",
    "from nacl.exceptions import BadSignatureError as NaclBadSignatureError\n",
    "\n",
    "\n",
    "def verify_signature_eth(\n",
    "    signature: Union[bytes, str],\n",
    "    public_key: Union[bytes, str],\n",
    "    message: Union[bytes, str],\n",
    "):\n",
    "    \"\"\"\n",
    "    Verifies a signature.\n",
    "    Args:\n",
    "        signature: The signature to verify. Can be a hex encoded string or bytes.\n",
    "        public_key: The sender's public key to use for verification. Can be a checksum, hex encoded string or bytes.\n",
    "        message: The message to verify. Can be an utf-8 string or bytes.\n",
    "    Raises:\n",
    "        BadSignatureError: If the signature is invalid.\n",
    "    \"\"\"\n",
    "    if isinstance(signature, str):\n",
    "        if signature.startswith(\"0x\"):\n",
    "            signature = signature[2:]\n",
    "        signature = bytes.fromhex(signature)\n",
    "    if isinstance(public_key, bytes):\n",
    "        public_key = \"0x\" + public_key.hex()\n",
    "    if isinstance(message, bytes):\n",
    "        message = message.decode(\"utf-8\")\n",
    "\n",
    "    message_hash = encode_defunct(text=message)\n",
    "    try:\n",
    "        address = Account.recover_message(message_hash, signature=signature)\n",
    "        if address.casefold() != public_key.casefold():\n",
    "            print(address)\n",
    "            raise BadSignatureError\n",
    "    except (EthBadSignatureError, BadSignatureError) as e:\n",
    "        raise BadSignatureError from e\n"
   ]
  },
  {
   "cell_type": "code",
   "execution_count": 8,
   "metadata": {},
   "outputs": [
    {
     "name": "stdout",
     "output_type": "stream",
     "text": [
      "0x34398b1971aD23B7070c886798A41Ed38D2192fd\n"
     ]
    },
    {
     "ename": "BadSignatureError",
     "evalue": "",
     "output_type": "error",
     "traceback": [
      "\u001b[0;31m---------------------------------------------------------------------------\u001b[0m",
      "\u001b[0;31mBadSignatureError\u001b[0m                         Traceback (most recent call last)",
      "Cell \u001b[0;32mIn[7], line 35\u001b[0m, in \u001b[0;36mverify_signature_eth\u001b[0;34m(signature, public_key, message)\u001b[0m\n\u001b[1;32m     34\u001b[0m         \u001b[38;5;28mprint\u001b[39m(address)\n\u001b[0;32m---> 35\u001b[0m         \u001b[38;5;28;01mraise\u001b[39;00m BadSignatureError\n\u001b[1;32m     36\u001b[0m \u001b[38;5;28;01mexcept\u001b[39;00m (EthBadSignatureError, BadSignatureError) \u001b[38;5;28;01mas\u001b[39;00m e:\n",
      "\u001b[0;31mBadSignatureError\u001b[0m: ",
      "\nThe above exception was the direct cause of the following exception:\n",
      "\u001b[0;31mBadSignatureError\u001b[0m                         Traceback (most recent call last)",
      "Cell \u001b[0;32mIn[8], line 1\u001b[0m\n\u001b[0;32m----> 1\u001b[0m \u001b[43mverify_signature_eth\u001b[49m\u001b[43m(\u001b[49m\u001b[43msignature\u001b[49m\u001b[38;5;241;43m=\u001b[39;49m\u001b[43msignature\u001b[49m\u001b[43m,\u001b[49m\u001b[43m \u001b[49m\u001b[43mpublic_key\u001b[49m\u001b[38;5;241;43m=\u001b[39;49m\u001b[38;5;124;43m'\u001b[39;49m\u001b[38;5;124;43m0x9a868D58C7F31DAd95626e9632A937Fff69a4F0e\u001b[39;49m\u001b[38;5;124;43m'\u001b[39;49m\u001b[43m,\u001b[49m\u001b[43m \u001b[49m\u001b[43mmessage\u001b[49m\u001b[38;5;241;43m=\u001b[39;49m\u001b[43mmesssage\u001b[49m\u001b[43m)\u001b[49m\n",
      "Cell \u001b[0;32mIn[7], line 37\u001b[0m, in \u001b[0;36mverify_signature_eth\u001b[0;34m(signature, public_key, message)\u001b[0m\n\u001b[1;32m     35\u001b[0m         \u001b[38;5;28;01mraise\u001b[39;00m BadSignatureError\n\u001b[1;32m     36\u001b[0m \u001b[38;5;28;01mexcept\u001b[39;00m (EthBadSignatureError, BadSignatureError) \u001b[38;5;28;01mas\u001b[39;00m e:\n\u001b[0;32m---> 37\u001b[0m     \u001b[38;5;28;01mraise\u001b[39;00m BadSignatureError \u001b[38;5;28;01mfrom\u001b[39;00m \u001b[38;5;21;01me\u001b[39;00m\n",
      "\u001b[0;31mBadSignatureError\u001b[0m: "
     ]
    }
   ],
   "source": [
    "verify_signature_eth(signature=signature, public_key='0x9a868D58C7F31DAd95626e9632A937Fff69a4F0e', message=messsage)"
   ]
  },
  {
   "cell_type": "code",
   "execution_count": null,
   "metadata": {},
   "outputs": [],
   "source": []
  },
  {
   "cell_type": "code",
   "execution_count": 2,
   "metadata": {},
   "outputs": [],
   "source": [
    "from siwe import SiweMessage"
   ]
  },
  {
   "cell_type": "code",
   "execution_count": 8,
   "metadata": {},
   "outputs": [],
   "source": [
    "messsage = SiweMessage(\n",
    "    domain=\"localhost:3001\",\n",
    "    address=\"0x9a868D58C7F31DAd95626e9632A937Fff69a4F0e\",\n",
    "    statement=\"Sign in to my Rearden AI\",\n",
    "    uri=\"http://localhost:3001\",\n",
    "    version=\"1\",\n",
    "    chain_id=1,\n",
    "    nonce=\"3cac1c2025bc0783c0673cee247c6e7ef9a407b030a31e8d1aec44903acf8d1e\",\n",
    "    issued_at=\"2024-06-05T07:59:49.857Z\"\n",
    ")\n",
    "\n",
    "messsage.verify(signature=\"0xe5a4d4931ccdb28b5ba539b10b12b6c9499d926c1effb90e08767d642b15fe440c3833b8e498daa7ed8c2acd2416bf528767e81bfd3a93e97e239bf32a9d05851c\")\n",
    "\n"
   ]
  },
  {
   "cell_type": "code",
   "execution_count": 9,
   "metadata": {},
   "outputs": [
    {
     "name": "stdout",
     "output_type": "stream",
     "text": [
      "abc\n"
     ]
    }
   ],
   "source": [
    "i = 2\n",
    "i= \"abc\"\n",
    "print(i)"
   ]
  }
 ],
 "metadata": {
  "kernelspec": {
   "display_name": ".venv",
   "language": "python",
   "name": "python3"
  },
  "language_info": {
   "codemirror_mode": {
    "name": "ipython",
    "version": 3
   },
   "file_extension": ".py",
   "mimetype": "text/x-python",
   "name": "python",
   "nbconvert_exporter": "python",
   "pygments_lexer": "ipython3",
   "version": "3.10.12"
  }
 },
 "nbformat": 4,
 "nbformat_minor": 2
}
