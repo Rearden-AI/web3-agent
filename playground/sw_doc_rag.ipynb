{
 "cells": [
  {
   "cell_type": "code",
   "execution_count": 28,
   "metadata": {},
   "outputs": [],
   "source": [
    "import os\n",
    "import requests\n",
    "from urllib.parse import urljoin\n",
    "from llama_index.core import PromptTemplate, VectorStoreIndex\n",
    "from llama_index.core import Settings\n",
    "from llama_index.core import SimpleDirectoryReader\n",
    "from llama_index.core.postprocessor import SentenceTransformerRerank\n",
    "from llama_index.embeddings.ollama import OllamaEmbedding\n",
    "from llama_index.llms.ollama import Ollama\n",
    "from llama_index.readers.web import SimpleWebPageReader\n",
    "\n",
    "import uuid\n",
    "\n",
    "from langchain_core.messages import SystemMessage, AIMessage, HumanMessage\n",
    "from langchain_postgres import PostgresChatMessageHistory\n",
    "import psycopg\n",
    "\n",
    "from langchain_cohere import CohereEmbeddings\n",
    "from langchain_postgres import PGVector\n",
    "from langchain_postgres.vectorstores import PGVector\n",
    "from langchain_core.documents import Document"
   ]
  },
  {
   "cell_type": "code",
   "execution_count": null,
   "metadata": {},
   "outputs": [],
   "source": [
    "model = Ollama(model='llama3')"
   ]
  },
  {
   "cell_type": "code",
   "execution_count": 48,
   "metadata": {},
   "outputs": [],
   "source": [
    "DB_NAME: str = os.environ.get('DB_NAME')\n",
    "DB_USER: str = os.environ.get('DB_USER')\n",
    "DB_HOST: str = os.environ.get('DB_HOST')\n",
    "DB_PORT: str = os.environ.get('DB_PORT')\n",
    "DB_PW: str = os.environ.get('DB_PW')\n",
    "conn_info = f\"postgresql://{DB_USER}:{DB_PW}@{DB_HOST}:{DB_PORT}/{DB_NAME}\"\n",
    "sync_connection = psycopg.connect(conninfo=conn_info)\n",
    "\n",
    "table_name = \"chat_history\"\n",
    "PostgresChatMessageHistory.create_tables(sync_connection, table_name)"
   ]
  },
  {
   "cell_type": "code",
   "execution_count": 10,
   "metadata": {},
   "outputs": [
    {
     "name": "stdout",
     "output_type": "stream",
     "text": [
      "[SystemMessage(content='Meow'), AIMessage(content='woof'), HumanMessage(content='bark')]\n"
     ]
    }
   ],
   "source": [
    "session_id = str(uuid.uuid4())\n",
    "\n",
    "chat_history = PostgresChatMessageHistory(\n",
    "    table_name,\n",
    "    session_id,\n",
    "    sync_connection=sync_connection\n",
    ")\n",
    "\n",
    "# Add messages to the chat history\n",
    "chat_history.add_messages([\n",
    "    SystemMessage(content=\"Meow\"),\n",
    "    AIMessage(content=\"woof\"),\n",
    "    HumanMessage(content=\"bark\"),\n",
    "])\n",
    "\n",
    "print(chat_history.messages)"
   ]
  },
  {
   "cell_type": "code",
   "execution_count": 11,
   "metadata": {},
   "outputs": [
    {
     "name": "stdout",
     "output_type": "stream",
     "text": [
      "[SystemMessage(content='Meow'), AIMessage(content='woof'), HumanMessage(content='bark'), SystemMessage(content='How can i help you?'), AIMessage(content=\"Here's one:\\n\\nWhy don't eggs tell jokes?\\n\\n(Wait for it...)\\n\\nBecause they'd crack each other up!\\n\\nHope that made you smile!\"), HumanMessage(content='Tell me a joke')]\n"
     ]
    }
   ],
   "source": [
    "human_message = \"Tell me a joke\"\n",
    "ai_message = model.invoke(human_message)\n",
    "system_message = \"How can i help you?\"\n",
    "\n",
    "chat_history.add_messages([\n",
    "    SystemMessage(content=system_message),\n",
    "    AIMessage(content=ai_message),\n",
    "    HumanMessage(content=human_message),\n",
    "])\n",
    "\n",
    "print(chat_history.messages)"
   ]
  },
  {
   "cell_type": "code",
   "execution_count": 44,
   "metadata": {},
   "outputs": [
    {
     "name": "stderr",
     "output_type": "stream",
     "text": [
      "/srv/rearden/dev/back/.venv/lib/python3.10/site-packages/huggingface_hub/file_download.py:1132: FutureWarning: `resume_download` is deprecated and will be removed in version 1.0.0. Downloads always resume when possible. If you want to force a new download, use `force_download=True`.\n",
      "  warnings.warn(\n"
     ]
    }
   ],
   "source": [
    "\n",
    "class ReardenRAG:\n",
    "    def __init__(self, urls_files_path: list):\n",
    "        all_urls = self.get_all_urls(base_urls_files=urls_files_path)        \n",
    "        self.documents = SimpleDirectoryReader(os.path.join(\"..\", \"rearden_llm\", \"knowledge\")).load_data()\n",
    "        self.urls = SimpleWebPageReader(html_to_text=True).load_data(urls=all_urls)\n",
    "        self.documents+= self.urls\n",
    "        self.rerank = SentenceTransformerRerank(model=\"cross-encoder/ms-marco-MiniLM-L-2-v2\", top_n=3)\n",
    "        self.embed_model = OllamaEmbedding(model_name=\"nomic-embed-text\")    \n",
    "        Settings.embed_model = self.embed_model\n",
    "        Settings.chunk_size = 1048    \n",
    "        Settings.llm = Ollama(model=\"llama3\", request_timeout=360.0)\n",
    "        index = VectorStoreIndex.from_documents(\n",
    "            self.documents,\n",
    "        )\n",
    "        self.query_engine = index.as_query_engine()\n",
    "\n",
    "        # Settings.chunk_size = 512\n",
    "\n",
    "    def get_all_urls(self, base_urls_files: list):\n",
    "        urls = []\n",
    "        for _file in base_urls_files:\n",
    "            with open(_file, \"r\") as file:\n",
    "                lines = file.readlines()\n",
    "                lines = [line.strip() for line in lines]\n",
    "            urls += lines\n",
    "        return urls\n",
    "\n",
    "    def test(self, message: str):\n",
    "        res = self.query_engine.query(message)\n",
    "        print(res)\n",
    "        return res.response\n",
    "    \n",
    "url_files = [os.path.join(\"..\",\"rearden_llm\",\"urls\", \"starknet_urls.txt\"), \n",
    "             os.path.join(\"..\",\"rearden_llm\",\"urls\", \"wormhole_urls.txt\"), \n",
    "             os.path.join(\"..\",\"rearden_llm\",\"urls\", \"sui_urls.txt\")]\n",
    "    \n",
    "rag_llm = ReardenRAG(urls_files_path=url_files)"
   ]
  },
  {
   "cell_type": "code",
   "execution_count": 49,
   "metadata": {},
   "outputs": [
    {
     "name": "stdout",
     "output_type": "stream",
     "text": [
      "Based on the provided context information, Sui refers to a platform.\n",
      "Starknet is a ZK-proving system that uses Poseidon hash functions to be very efficient as algebraic circuits.\n",
      "Wormhole is a system that enables interoperability between different blockchain networks.\n",
      "You can interact with Sui by visiting their platform at [Sui overview](/intro-to-sui) or by exploring other options such as:\n",
      "\n",
      "* Move: [Move](/move)\n",
      "* zkLogin: [zklogin](/zklogin)\n",
      "* Use cases: [Use cases](/use-cases)\n",
      "* Research: [Research](/research)\n",
      "* Network status: (https://status.sui.io/)\n",
      "* Network information: (/networkinfo)\n",
      "* Token schedule: (/token-schedule)\n",
      "* Bug Bounty Program: (/bug-bounty-program)\n",
      "\n",
      "Additionally, you can engage with the Sui ecosystem through:\n",
      "\n",
      "* Global events: (/community-events-hub#events)\n",
      "* Community programs: (/community-events-hub#programs)\n",
      "* Job board: (https://jobs.sui.io/jobs)\n",
      "* Directory: (https://sui.directory/)\n",
      "* Sui University Initiative: (https://sui.io/community-access-program)\n",
      "\n",
      "You can also stay updated with the latest news and announcements through:\n",
      "\n",
      "* Press center: (/press-center)\n",
      "* Media kit: (/media-kit)\n",
      "* Blog: (https://blog.sui.io/)\n",
      "* Security: (/security)\n",
      "* Trademark Policy: (/security/trademark-usage-policy)\n",
      "Based on the provided context, it appears that there are several main types of participants in the Sui economy. These include:\n",
      "\n",
      "1. Grantees: Individuals or organizations that receive grants from the Sui Foundation to develop specific project ideas.\n",
      "2. Developers: People who create software applications and tools for the Sui ecosystem, such as Suia and Suiet Wallet.\n",
      "3. Organizers: Individuals or groups that host events, games, and other activities on the Sui platform.\n",
      "4. Users: The individuals who participate in these events, games, and activities, using Suia and other tools to verify their attendance.\n",
      "\n",
      "These participants seem to be crucial components of the Sui economy, as they drive innovation, build applications, and engage with each other through various activities.\n",
      "Based on the provided context, it seems that there are several options for setting up your environment with Starknet. Here are a few suggestions:\n",
      "\n",
      "1. **Starknet Foundry**: The online Foundry Book provides helpful information and guidance in writing and running tests and interacting with Starknet. You can use Cast to declare, deploy, and interact with contracts using the Starknet JSON-RPC.\n",
      "2. **Hardhat (with a plugin)**: Hardhat is a tool primarily for testing Cairo code. You can run Starknet commands as tasks in Hardhat, such as compiling a Cairo contract. Get Hardhat at [the Hardhat site](https://hardhat.org/). Get the Starknet plugin at the [Starknet Hardhat plugin Github repo](https://github.com/0xSpaceShard/starknet-hardhat-plugin).\n",
      "3. **The Starknet Remix plugin**: Remix is a browser-based integrated development environment (IDE) for Ethereum that you can use for learning, experimenting and finding vulnerabilities in smart contracts, without installing anything. The Starknet Remix plugin lets you use Remix for testing Starknet smart contracts. Get started with Remix at the [Remix Project site](https://remix-project.org). Get started with the Starknet Remix plugin at [the Starknet Remix plugin’s Github repo](https://github.com/NethermindEth/starknet-remix-plugin).\n",
      "4. **The Visual Studio Code Cairo extension**: This is an extension for Microsoft Visual Studio Code IDE that provides assistance when writing Cairo smart contracts, by using the Cairo Language Server. Get it at [Cairo 1.0 - Visual Studio Marketplace](https://marketplace.visualstudio.com/items?itemName=starkware.cairo1).\n",
      "\n",
      "These are just a few options to get started with Starknet. You can choose the one that best fits your needs and skill level.\n",
      "The context information does not explicitly mention which architect Starknet uses. Therefore, I cannot provide an answer to this query based on the provided context.\n",
      "I'm not able to directly reference the given context in my answer. However, based on the provided information, it appears that there is no mention of a concept called \"StarkGate.\" The context describes various Starknet commands and their arguments, but does not introduce or define \"StarkGate\" as a specific term or concept.\n",
      "Developing cross-chain dApps typically involves building a decentralized application that interacts with multiple blockchain networks. Here are some general steps you can follow:\n",
      "\n",
      "1. **Choose the right chain for your project**: Determine which blockchain networks your project requires, considering factors like scalability, gas prices, and developer familiarity.\n",
      "2. **Familiarize yourself with each chain's programming languages and tools**: Learn the specific programming languages, frameworks, and development tools used on each chosen blockchain network.\n",
      "3. **Select a suitable cross-chain bridge or protocol**: Research existing bridges or protocols that enable communication between your chosen blockchain networks. Examples include Wormhole, Connext, and Binance Smart Chain (BSC) Cross-Chain Bridge.\n",
      "4. **Design your dApp's architecture**: Plan how your application will interact with each chain, considering factors like data storage, transaction processing, and user authentication.\n",
      "5. **Implement your dApp on each chosen blockchain network**: Develop your dApp using the specific programming languages and tools for each chain, ensuring seamless interactions between them.\n",
      "6. **Test and integrate your cross-chain functionality**: Verify that your application can successfully interact with multiple chains, handling transactions, data transfer, and user experiences.\n",
      "7. **Deploy and maintain your cross-chain dApp**: Launch your dApp on the target blockchain networks, ensure it remains stable, and continue to monitor and update as needed.\n",
      "\n",
      "Keep in mind that building a cross-chain dApp requires expertise in multiple programming languages, blockchain-specific development tools, and understanding of each chain's unique characteristics. It may be helpful to consult documentation from specific blockchain platforms, such as GitHub repositories or official developer guides, for more detailed information on implementing cross-chain functionality.\n",
      "Based on the provided context, Wormhole supports multiple EVM (Ethereum Virtual Machine) chains, including Starknet, Arbitrum, Optimism, Polygon, Rootstock, Ethereum Sepolia, Ethereum Holesky, Arbitrum Sepolia, Optimism Sepolia, Base Sepolia, Scroll, Mantle, Polygon Sepolia, Berachain, Blast, Linea, Seievm, and Xlayer.\n"
     ]
    }
   ],
   "source": [
    "session_id = str(uuid.uuid4())\n",
    "chat_history = PostgresChatMessageHistory(\n",
    "        table_name,\n",
    "        session_id,\n",
    "        sync_connection=sync_connection\n",
    "    )\n",
    "question_list = ['What is sui?', \n",
    "                 'What is starknet?', \n",
    "                 'What is wormhole?', \n",
    "                 'How can i interact with sui?',\n",
    "                 'What main types of participants characterize the Sui economy',\n",
    "                 'How to setup my environment with starknet?',\n",
    "                 'Which architect starknet use?',\n",
    "                 'What is StarkGate?',\n",
    "                 'How to develop Cross Chain Dapps?',\n",
    "                 'What environment wormhole supports?']\n",
    "for question in question_list: \n",
    "    \n",
    "    # Add messages to the chat history\n",
    "    chat_history.add_messages([\n",
    "        AIMessage(content=rag_llm.test(message=question)),\n",
    "        HumanMessage(content=question),\n",
    "    ])"
   ]
  }
 ],
 "metadata": {
  "kernelspec": {
   "display_name": "Python 3 (ipykernel)",
   "language": "python",
   "name": "python3"
  },
  "language_info": {
   "codemirror_mode": {
    "name": "ipython",
    "version": 3
   },
   "file_extension": ".py",
   "mimetype": "text/x-python",
   "name": "python",
   "nbconvert_exporter": "python",
   "pygments_lexer": "ipython3",
   "version": "3.10.12"
  }
 },
 "nbformat": 4,
 "nbformat_minor": 4
}
