{
 "cells": [
  {
   "cell_type": "code",
   "execution_count": 1,
   "metadata": {},
   "outputs": [],
   "source": [
    "from langchain.prompts import PromptTemplate, FewShotPromptTemplate"
   ]
  },
  {
   "cell_type": "code",
   "execution_count": 1,
   "metadata": {},
   "outputs": [],
   "source": [
    "from langchain_community.llms import Ollama"
   ]
  },
  {
   "cell_type": "code",
   "execution_count": 2,
   "metadata": {},
   "outputs": [],
   "source": [
    "model = Ollama(model='llama3')"
   ]
  },
  {
   "cell_type": "code",
   "execution_count": 3,
   "metadata": {},
   "outputs": [
    {
     "data": {
      "text/plain": [
       "'Kubernetes (also known as K8s) is an open-source container orchestration system for automating the deployment, scaling, and management of containerized applications. It was originally designed by Google, and is now maintained by the Cloud Native Computing Foundation (CNCF).\\n\\n**Key Concepts:**\\n\\n1. **Containers**: Kubernetes manages containers, which are lightweight and portable packages of software that include everything an application needs to run.\\n2. **Pods**: A pod is a logical host for one or more containers, and represents a single instance of deployment. Pods can be used to group multiple containers together.\\n3. **Services**: Services provide load balancing, DNS, and network policies for pods.\\n4. **Deployments**: Deployments are the way to manage the rollout of new versions of your application. You can have multiple deployments running at the same time, and Kubernetes will automatically roll out updates.\\n5. **ReplicaSets**: ReplicaSets ensure that a specified number of replicas (i.e., copies) of a pod are running at any given time.\\n\\n**Core Components:**\\n\\n1. **API Server**: The API server is the control plane component that exposes the Kubernetes API to users and other components.\\n2. **Controller Manager**: The controller manager runs controllers, which are responsible for implementing the desired state of the cluster (e.g., scaling a deployment).\\n3. **Scheduler**: The scheduler schedules pods onto nodes in the cluster based on resource availability and other factors.\\n\\n**Benefits:**\\n\\n1. **Automated Deployment**: Kubernetes automates the deployment process, reducing manual errors.\\n2. **Scalability**: Kubernetes provides horizontal scaling for applications, allowing you to easily add or remove resources as needed.\\n3. **High Availability**: Kubernetes ensures high availability by automatically restarting failed containers and pods.\\n4. **Self-Healing**: Kubernetes detects and self-heals issues in the cluster, reducing downtime and improving overall reliability.\\n\\n**Use Cases:**\\n\\n1. **Cloud-Native Applications**: Kubernetes is well-suited for cloud-native applications that require scalability, high availability, and automation.\\n2. **Legacy Modernization**: Kubernetes can be used to modernize legacy monolithic applications by breaking them down into smaller, more manageable components.\\n3. **Edge Computing**: Kubernetes is being used in edge computing scenarios to manage and orchestrate containerized workloads on the edge.\\n\\n**Challenges:**\\n\\n1. **Steep Learning Curve**: Kubernetes has a complex architecture and requires a good understanding of its concepts and components.\\n2. **Security**: Kubernetes security is a critical concern, as it manages sensitive data and applications.\\n3. **Monitoring and Logging**: Monitoring and logging Kubernetes deployments can be challenging due to the distributed nature of the platform.\\n\\n**Tools and Integrations:**\\n\\n1. **kubectl**: The official command-line tool for interacting with Kubernetes clusters.\\n2. **Helm**: A package manager for Kubernetes that simplifies the deployment and management of applications.\\n3. **Kustomize**: A tool for managing Kubernetes configurations and deployments.\\n4. **Integrations**: Kubernetes integrates with a wide range of tools, including CI/CD pipelines, monitoring and logging platforms, and cloud providers.\\n\\n**Conclusion:**\\n\\nKubernetes is a powerful platform for automating the deployment, scaling, and management of containerized applications. While it presents some challenges, its benefits make it an attractive choice for organizations seeking to modernize their application portfolios and improve operational efficiency.'"
      ]
     },
     "execution_count": 3,
     "metadata": {},
     "output_type": "execute_result"
    }
   ],
   "source": [
    "model.invoke(\"Tell me about kubernetes\")"
   ]
  },
  {
   "cell_type": "code",
   "execution_count": 77,
   "metadata": {},
   "outputs": [],
   "source": [
    "template=\"\"\"<|start_header_id|>system<|end_header_id|>\n",
    "You are an expert in color recognition\n",
    "<|eot_id|><|start_header_id|>user<|end_header_id|>\n",
    "return ONLY a color of what is described in message from list:\n",
    "{colors}\n",
    " \n",
    "If you don't know tell so\n",
    "\n",
    "USER MESSAGE:\\n\\n{user_message}\n",
    "<|eot_id|>\n",
    "<|start_header_id|>assistant<|end_header_id|>\n",
    "\n",
    "\"\"\""
   ]
  },
  {
   "cell_type": "code",
   "execution_count": 52,
   "metadata": {},
   "outputs": [],
   "source": [
    "prompt = PromptTemplate(\n",
    "    template=template,\n",
    "    input_variables=[\"user_message\", \"colors\"]\n",
    ")"
   ]
  },
  {
   "cell_type": "code",
   "execution_count": 24,
   "metadata": {},
   "outputs": [],
   "source": [
    "from langchain_core.output_parsers import StrOutputParser \n",
    "from langchain_core.runnables import RunnablePassthrough"
   ]
  },
  {
   "cell_type": "code",
   "execution_count": 53,
   "metadata": {},
   "outputs": [],
   "source": [
    "colors = \"blye\\ngrey\\nyellow\\nred\\npink\""
   ]
  },
  {
   "cell_type": "code",
   "execution_count": 54,
   "metadata": {},
   "outputs": [],
   "source": [
    "chain = (\n",
    "    {\n",
    "        \"user_message\": RunnablePassthrough(),\n",
    "        \"colors\": lambda _: colors\n",
    "    }\n",
    "    | prompt\n",
    "    | model\n",
    "    | StrOutputParser()\n",
    ")"
   ]
  },
  {
   "cell_type": "code",
   "execution_count": 61,
   "metadata": {},
   "outputs": [
    {
     "data": {
      "text/plain": [
       "'I\\'m not familiar with the color \"ground\". It doesn\\'t seem to be a typical color name. Can you please provide more context or clarify which color you are referring to?'"
      ]
     },
     "execution_count": 61,
     "metadata": {},
     "output_type": "execute_result"
    }
   ],
   "source": [
    "chain.invoke('ground')"
   ]
  },
  {
   "cell_type": "code",
   "execution_count": 78,
   "metadata": {},
   "outputs": [],
   "source": [
    "few_shot_template = FewShotPromptTemplate(\n",
    "    example_prompt=PromptTemplate(\n",
    "        template=template+\"{answer}\",\n",
    "        input_variables=[\"user_message\", \"colors\", \"answer\"]\n",
    "    ),\n",
    "    examples=[\n",
    "        {\n",
    "            \"user_message\": \"ground\",\n",
    "            \"colors\": colors,\n",
    "            \"answer\": \"I don't know\"\n",
    "        },\n",
    "        {\n",
    "            \"user_message\": \"sun\",\n",
    "            \"colors\": colors,\n",
    "            \"answer\": \"yellow\"\n",
    "        },\n",
    "        {\n",
    "            \"user_message\": \"blood\",\n",
    "            \"colors\": colors,\n",
    "            \"answer\": \"red\"\n",
    "        },\n",
    "    ],\n",
    "    suffix=template,\n",
    "    input_variables=[\"user_message\", \"colors\"]\n",
    ")"
   ]
  },
  {
   "cell_type": "code",
   "execution_count": 79,
   "metadata": {},
   "outputs": [],
   "source": [
    "few_shots_chain = (\n",
    "    {\n",
    "        \"user_message\": RunnablePassthrough(),\n",
    "        \"colors\": lambda _: colors\n",
    "    }\n",
    "    | few_shot_template\n",
    "    | model\n",
    "    | StrOutputParser()\n",
    ")"
   ]
  },
  {
   "cell_type": "code",
   "execution_count": 99,
   "metadata": {},
   "outputs": [
    {
     "data": {
      "text/plain": [
       "'brown (Note: Since brown isn\\'t in the original list, I should have said \"I don\\'t know\" instead. Let me correct that!)\\n\\nI don\\'t know'"
      ]
     },
     "execution_count": 99,
     "metadata": {},
     "output_type": "execute_result"
    }
   ],
   "source": [
    "few_shots_chain.invoke('leaves')"
   ]
  },
  {
   "cell_type": "code",
   "execution_count": 14,
   "metadata": {},
   "outputs": [],
   "source": [
    "tokens_list = \"\"\"Tether USD (USDT)\n",
    "BNB (BNB)\n",
    "Lido Staked Ether (stETH)\n",
    "USDC (USDC)\n",
    "Toncoin (TON)\n",
    "Shiba Inu (SHIB)\n",
    "Wrapped liquid staked Ether 2.0 (wstETH)\n",
    "Wrapped Ether (WETH)\n",
    "Wrapped BTC (WBTC)\n",
    "Chainlink (LINK)\n",
    "Uniswap (UNI)\n",
    "Polygon (MATIC)\n",
    "PEPE (PEPE)\n",
    "Wrapped eETH (weETH)\n",
    "Dai (DAI)\n",
    "Render Token (RNDR)\n",
    "Fetch.AI (FET)\n",
    "NEAR Protocol (NEAR)\n",
    "Renzo Restaked ETH (ezETH)\n",
    "Immutable X (IMX)\n",
    "USDe (USDE)\n",
    "First Digital USD (FDUSD)\n",
    "Mantle (MNT)\n",
    "Injective Protocol (INJ)\n",
    "OKB (OKB)\n",
    "ONDO (ONDO)\n",
    "Cosmos (ATOM)\n",
    "The Graph (GRT)\n",
    "Ethereum (ETH)\"\"\""
   ]
  },
  {
   "cell_type": "code",
   "execution_count": 37,
   "metadata": {},
   "outputs": [
    {
     "name": "stdout",
     "output_type": "stream",
     "text": [
      "<|begin_of_text|><|start_header_id|>system<|end_header_id|>\n",
      "You are an expert in recognizing what token user wants to transfer.\n",
      "\n",
      "Here is a list of accepted tokens in format \"name (symbol)\"\n",
      "Tether USD (USDT)\n",
      "BNB (BNB)\n",
      "Lido Staked Ether (stETH)\n",
      "USDC (USDC)\n",
      "Toncoin (TON)\n",
      "Shiba Inu (SHIB)\n",
      "Wrapped liquid staked Ether 2.0 (wstETH)\n",
      "Wrapped Ether (WETH)\n",
      "Wrapped BTC (WBTC)\n",
      "Chainlink (LINK)\n",
      "Uniswap (UNI)\n",
      "Polygon (MATIC)\n",
      "PEPE (PEPE)\n",
      "Wrapped eETH (weETH)\n",
      "Dai (DAI)\n",
      "Render Token (RNDR)\n",
      "Fetch.AI (FET)\n",
      "NEAR Protocol (NEAR)\n",
      "Renzo Restaked ETH (ezETH)\n",
      "Immutable X (IMX)\n",
      "USDe (USDE)\n",
      "First Digital USD (FDUSD)\n",
      "Mantle (MNT)\n",
      "Injective Protocol (INJ)\n",
      "OKB (OKB)\n",
      "ONDO (ONDO)\n",
      "Cosmos (ATOM)\n",
      "The Graph (GRT)\n",
      "Ethereum (ETH)\n",
      "\n",
      "Analyze user message from USER_MESSAGE and return pure JSON with three keywords: 'symbol', 'amount' and 'receiver'\n",
      "'symbol' - is symbol from list.\n",
      "'amount' - is amount of tokens to transfer. Set to null if not defined.\n",
      "'receiver' - is a wallet to receive tokens. Set to null if not defined.\n",
      "<|eot_id|>\n",
      "\n",
      "<|start_header_id|>system<|end_header_id|>\n",
      "USER_MESSAGE:\n",
      "I want to send some USDT\n",
      "<|eot_id|><|start_header_id|>assistant<|end_header_id|>{ 'symbol': 'ETH', 'amount': null, 'receiver': null }<|eot_id|>\n",
      "\n",
      "<|start_header_id|>assistant<|end_header_id|>\n"
     ]
    }
   ],
   "source": [
    "\n",
    "from langchain_core.runnables import RunnablePassthrough\n",
    "from langchain.prompts import PromptTemplate, FewShotPromptTemplate\n",
    "\n",
    "BEGIN_OF_TEXT = \"<|begin_of_text|>\"\n",
    "SYSTEM_MESSAGE_START = \"<|start_header_id|>system<|end_header_id|>\"\n",
    "USER_MESSAGE_START = \"<|start_header_id|>system<|end_header_id|>\"\n",
    "ASSISTANT_MESSAGE_START = \"<|start_header_id|>assistant<|end_header_id|>\"\n",
    "END_OF_MESSAGE = \"<|eot_id|>\"\n",
    "END_OF_TEXT = \"<|end_of_text|>\"\n",
    "\n",
    "\n",
    "system_message_template = \"\"\"\n",
    "You are an expert in recognizing what token user wants to transfer.\n",
    "\n",
    "Here is a list of accepted tokens in format \"name (symbol)\"\n",
    "{{ tokens_list }}\n",
    "\n",
    "Analyze user message from USER_MESSAGE and return pure JSON with three keywords: 'symbol', 'amount' and 'receiver'\n",
    "'symbol' - is symbol from list.\n",
    "'amount' - is amount of tokens to transfer. Set to null if not defined.\n",
    "'receiver' - is a wallet to receive tokens. Set to null if not defined.\n",
    "\"\"\"\n",
    "\n",
    "def get_prefix_template(system_message: str):\n",
    "    return f\"{BEGIN_OF_TEXT}{SYSTEM_MESSAGE_START}{system_message}{END_OF_MESSAGE}\"\n",
    "\n",
    "prefix = get_prefix_template(system_message=system_message_template)\n",
    "\n",
    "default_user_message_template = \"\"\"\n",
    "USER_MESSAGE:\n",
    "{{ user_message }}\n",
    "\"\"\"\n",
    "\n",
    "def get_few_shot_template():\n",
    "    assistant_message = \"{{ assistant_message }}\"\n",
    "    return f\"{USER_MESSAGE_START}{default_user_message_template}{END_OF_MESSAGE}{ASSISTANT_MESSAGE_START}{assistant_message}{END_OF_MESSAGE}\"\n",
    "\n",
    "\n",
    "few_shot_template = FewShotPromptTemplate(\n",
    "    prefix=prefix,\n",
    "    template_format=\"jinja2\",\n",
    "    example_prompt=PromptTemplate(\n",
    "        template=get_few_shot_template(),\n",
    "        input_variables=[\"user_message\", \"assistant_message\"],\n",
    "        template_format=\"mustache\"\n",
    "    ),\n",
    "    examples=\n",
    "    [\n",
    "        # {\n",
    "        #     \"user_message\": \"I want to send some USDT\",\n",
    "        #     \"assistant_message\": \"fuck off\"\n",
    "        # },\n",
    "        {\n",
    "            \"user_message\": \"I want to send some USDT\",\n",
    "            \"assistant_message\": \"{ 'symbol': 'ETH', 'amount': null, 'receiver': null }\"\n",
    "        },\n",
    "        # {\n",
    "        #     \"user_message\": \"I want to send some Ether to 0x4838B106FCe9647Bdf1E7877BF73cE8B0BAD5f97\",\n",
    "        #     \"assistant_message\": \"\"\"{ \"symbol\": \"ETH\", \"amount\": null, \"receiver\": \"0x4838B106FCe9647Bdf1E7877BF73cE8B0BAD5f97\" }\"\"\"\n",
    "        # },\n",
    "        # {   \n",
    "        #     \"user_message\": \"I want to send 10 USDC to 0x302166D919016E9927b2610dB95C756343B93623\",\n",
    "        #     \"assistant_message\": \"\"\"{ \"symbol\": \"USDC\", \"amount\": 10, \"receiver\": \"0x302166D919016E9927b2610dB95C756343B93623\" }\"\"\"\n",
    "        # }\n",
    "    ],\n",
    "    suffix=\"<|start_header_id|>assistant<|end_header_id|>\",\n",
    "    input_variables=[\"tokens_list\", \"user_message\"]\n",
    ")\n",
    "\n",
    "test_chain = ({\n",
    "        \"tokens_list\": lambda _: tokens_list,\n",
    "        \"user_message\": RunnablePassthrough()\n",
    "    }\n",
    "    | few_shot_template\n",
    "    # | StrOutputParser()\n",
    ")\n",
    "\n",
    "print(test_chain.invoke('I want to send some ether').text)"
   ]
  }
 ],
 "metadata": {
  "kernelspec": {
   "display_name": ".venv",
   "language": "python",
   "name": "python3"
  },
  "language_info": {
   "codemirror_mode": {
    "name": "ipython",
    "version": 3
   },
   "file_extension": ".py",
   "mimetype": "text/x-python",
   "name": "python",
   "nbconvert_exporter": "python",
   "pygments_lexer": "ipython3",
   "version": "3.10.12"
  }
 },
 "nbformat": 4,
 "nbformat_minor": 2
}
