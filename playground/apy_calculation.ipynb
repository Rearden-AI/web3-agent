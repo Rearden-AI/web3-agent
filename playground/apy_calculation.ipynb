{
 "cells": [
  {
   "cell_type": "code",
   "execution_count": 2,
   "metadata": {
    "collapsed": false
   },
   "outputs": [],
   "source": [
    "import time\n",
    "import requests\n",
    "import pandas as pd"
   ]
  },
  {
   "cell_type": "code",
   "execution_count": 19,
   "metadata": {},
   "outputs": [
    {
     "name": "stdout",
     "output_type": "stream",
     "text": [
      "{'lido': 3.24, 'renzo': 2.46, 'eigenlayer': 3.28, 'etherfi': 2.24, 'kelp': 1.93, 'swell': 3.25, 'zircuit': 0.01, 'karak': 23.24, 'elixir': 11.46}\n"
     ]
    }
   ],
   "source": [
    "okx_protocol_urls = {\"lido\": [10002],\n",
    "                         \"renzo\": [22750],\n",
    "                         \"eigenlayer\": [22004, 21999, 22003, 22000, 22001],\n",
    "                         \"etherfi\": [22850],\n",
    "                         \"kelp\": [22700],\n",
    "                         \"swell\": [21915],\n",
    "                         \"zircuit\": [30813, 30802, 30801, 30812],\n",
    "                         }\n",
    "defilama_karak_pools = [\"8903d930-5d19-4d21-b0de-f051cba55a03\", \"c97780f7-fc3a-475c-9492-ce1e743016fb\"]\n",
    "\n",
    "\n",
    "def get_mitosis_apy():\n",
    "    pass\n",
    "\n",
    "\n",
    "def get_elixir_apy():\n",
    "    apy_url = \"https://metrics-api.trusted-mainnet.elixir.xyz/metrics/tvl-apy\"\n",
    "    response = requests.get(url=apy_url)\n",
    "    if response.status_code != 200:\n",
    "        return False\n",
    "    exchanges = response.json().get(\"data\").get(\"tvl_per_exchange\")\n",
    "\n",
    "    total_apy = (exchanges.get(\"RABBITX\").get(\"token_pairs\").get(\"ETH_PERP\").get(\"pool_apy\")\n",
    "                    + exchanges.get(\"APEX\").get(\"token_pairs\").get(\"ETH_USDC\").get(\"pool_apy\")) / 2\n",
    "    return {\"elixir\": round(total_apy, 2)}\n",
    "\n",
    "\n",
    "def get_karak_apy(karak_pools: list):\n",
    "    total_apy = 0\n",
    "    for pool in karak_pools:\n",
    "        req = requests.get(f\"https://yields.llama.fi/chart/{pool}\").json()['data'][0]\n",
    "        total_apy += float(req['apy'])\n",
    "    return {\"karak\": round(total_apy / len(karak_pools), 2)}\n",
    "\n",
    "\n",
    "def get_protocols_apr(protocols: dict):\n",
    "    result = {}\n",
    "    for protocol, tokens in protocols.items():\n",
    "        apy_over_protocol = 0\n",
    "        for token in tokens:\n",
    "            base_url = f\"https://www.okx.com/priapi/v1/invest/web/products/{token}/rate/chart?type=1&investmentType=0&t={time.time}\"\n",
    "            response = requests.post(url=base_url)\n",
    "            if response.status_code == 200:\n",
    "                apy_over_protocol += float(response.json().get(\"data\")[-1]['rate']) * 100 if response.json().get(\n",
    "                    \"data\") else 0.01\n",
    "        result.update({protocol: round(apy_over_protocol / len(tokens), 2)})\n",
    "    result.update(get_karak_apy(defilama_karak_pools))\n",
    "    result.update(get_elixir_apy())\n",
    "    return result\n",
    "\n",
    "print(get_protocols_apr(protocols=okx_protocol_urls))"
   ]
  },
  {
   "cell_type": "code",
   "execution_count": 18,
   "metadata": {},
   "outputs": [
    {
     "name": "stdout",
     "output_type": "stream",
     "text": [
      "{'renzo': [{'points_amount': 1000, 'price': 0.19, 'apy': 43.72}, {'points_amount': 2000, 'price': 0.19, 'apy': 43.72}, {'points_amount': 5000, 'price': 0.19, 'apy': 43.72}, {'points_amount': 10000, 'price': 0.19, 'apy': 43.72}, {'points_amount': 39500.0, 'price': 0.2685718429508987, 'apy': 61.8}, {'points_amount': 39500.0, 'price': 0.2685718429508987, 'apy': 61.8}], 'eigenlayer': [{'points_amount': 1000, 'price': 0.24013476715742835, 'apy': 55.26}, {'points_amount': 2000, 'price': 0.24013476715742835, 'apy': 55.26}, {'points_amount': 5000, 'price': 0.24013476715742835, 'apy': 55.26}, {'points_amount': 10000, 'price': 0.24013476715742835, 'apy': 55.26}, {'points_amount': 50000, 'price': 0.2410546318537859, 'apy': 55.47}, {'points_amount': 68398.0, 'price': 0.25047720693587533, 'apy': 57.64}], 'etherfi': [], 'kelp': [{'points_amount': 1000, 'price': 0.0003033017779826, 'apy': 0.07}, {'points_amount': 2000, 'price': 0.0003033017779826, 'apy': 0.07}, {'points_amount': 5000, 'price': 0.0003033017779826, 'apy': 0.07}, {'points_amount': 10000, 'price': 0.0003033017779826, 'apy': 0.07}, {'points_amount': 50000, 'price': 0.0003033017779826, 'apy': 0.07}, {'points_amount': 100000, 'price': 0.0003033017779826, 'apy': 0.07}], 'swell': [{'points_amount': 1000, 'price': 0.4564239353612168, 'apy': 105.02}, {'points_amount': 2000, 'price': 0.4658279245880862, 'apy': 107.19}, {'points_amount': 5000, 'price': 0.4714703181242079, 'apy': 108.49}, {'points_amount': 10000, 'price': 0.48202989582086614, 'apy': 110.92}, {'points_amount': 36687.0, 'price': 0.6125707487360208, 'apy': 140.95}, {'points_amount': 36687.0, 'price': 0.6125707487360208, 'apy': 140.95}], 'elixir': [{'points_amount': 1000, 'price': 8.099345500594247, 'apy': 1863.68}, {'points_amount': 1510.0, 'price': 8.735003627753908, 'apy': 2009.95}, {'points_amount': 1510.0, 'price': 8.735003627753908, 'apy': 2009.95}, {'points_amount': 1510.0, 'price': 8.735003627753908, 'apy': 2009.95}, {'points_amount': 1510.0, 'price': 8.735003627753908, 'apy': 2009.95}, {'points_amount': 1510.0, 'price': 8.735003627753908, 'apy': 2009.95}], 'karak': [{'points_amount': 1000, 'price': 0.008380669949813332, 'apy': 1.93}, {'points_amount': 2000, 'price': 0.008380669949813332, 'apy': 1.93}, {'points_amount': 5000, 'price': 0.008380669949813332, 'apy': 1.93}, {'points_amount': 10000, 'price': 0.008380669949813332, 'apy': 1.93}, {'points_amount': 47500.0, 'price': 0.013202739952454736, 'apy': 3.04}, {'points_amount': 47500.0, 'price': 0.013202739952454736, 'apy': 3.04}]}\n"
     ]
    }
   ],
   "source": [
    "whalesmarket_offers = {\"renzo\": \"Renzo\",\n",
    "                       \"eigenlayer\": \"EigenLayer\",\n",
    "                       \"etherfi\": \"ether.fi\",\n",
    "                       \"kelp\": \"KelpDAO\",\n",
    "                       \"swell\": \"Swell\",\n",
    "                       \"elixir\": \"Elixir\",\n",
    "                       \"karak\": \"Karak\"}\n",
    "\n",
    "def get_eth_price():\n",
    "    url = \"https://api.coingecko.com/api/v3/simple/price?ids=ethereum&vs_currencies=usd\"\n",
    "    response = requests.get(url)\n",
    "    if response.status_code != 200:\n",
    "        return 3808.53\n",
    "    data = response.json()\n",
    "    return data['ethereum']['usd']\n",
    "\n",
    "def get_points(whales_symbols: dict):\n",
    "    points_amount = [1000, 2000, 5000, 10000, 50000, 100000]\n",
    "    eth_price = get_eth_price()\n",
    "    points_amount_price = {}\n",
    "    for protocol, symbol in whales_symbols.items():\n",
    "        points_amount_price.update({protocol: []})\n",
    "        base_url = f\"https://api-v2.whales.market/v2/offers?take=30&page=1&type=sell&full_match=&symbol={symbol}&status=open&min_price=&max_price=&sort_price=DESC&category_token=point_market&chains=1\"\n",
    "        response = requests.get(url=base_url)\n",
    "        if response.status_code != 200 or not response.json().get(\"data\").get(\"list\"):\n",
    "            continue\n",
    "        df = pd.DataFrame(response.json().get(\"data\").get(\"list\"))\n",
    "        df.drop(set(df.columns) - {'offer_price_usd', 'ex_token__price', 'total_amount'}, axis=1, inplace=True)\n",
    "        df = df.sort_values(\"offer_price_usd\")\n",
    "        for p_am in points_amount:\n",
    "            apy = 0\n",
    "            price = 0\n",
    "            usd_amount = 0\n",
    "            total_points_amount = p_am\n",
    "            for index, row in df.iterrows():\n",
    "                price = row[\"offer_price_usd\"]\n",
    "                if p_am < row[\"total_amount\"]:\n",
    "                    usd_amount += p_am * price\n",
    "                    price = usd_amount / total_points_amount\n",
    "                    apy = round((price * 365 * 24 / eth_price) * 100, 2)\n",
    "                    break\n",
    "                else:\n",
    "                    p_am -= row[\"total_amount\"]\n",
    "                    usd_amount += row[\"total_amount\"] * price\n",
    "                if index == df.index[-1]:\n",
    "                    total_points_amount-= p_am\n",
    "                    price = usd_amount / total_points_amount\n",
    "                    apy = round((price * 365 * 24 / eth_price) * 100, 2)\n",
    "                    break\n",
    "            points_amount_price[protocol].append({\"points_amount\": total_points_amount,\n",
    "                                                    \"price\": price,\n",
    "                                                    \"apy\": apy})\n",
    "\n",
    "    return points_amount_price\n",
    "\n",
    "print(get_points(whalesmarket_offers))"
   ]
  },
  {
   "cell_type": "code",
   "execution_count": null,
   "metadata": {},
   "outputs": [],
   "source": [
    "def get_erc20_tokens(api_key):\n",
    "    url = \"https://pro-api.coinmarketcap.com/v1/cryptocurrency/map\"\n",
    "    params = {\n",
    "        'start': '1',\n",
    "        'limit': '5000',\n",
    "        'sort': 'cmc_rank',\n",
    "        'cryptocurrency_type': 'tokens'\n",
    "    }\n",
    "    headers = {\n",
    "        'Accepts': 'application/json',\n",
    "        'X-CMC_PRO_API_KEY': api_key\n",
    "    }\n",
    "    response = requests.get(url, headers=headers, params=params)\n",
    "    data = response.json()\n",
    "    tokens = [token for token in data['data'] if 'ETH' in token['platform']]\n",
    "    return tokens\n",
    "\n",
    "api_key = 'your_api_key_here'\n",
    "tokens = get_erc20_tokens(api_key)\n",
    "for token in tokens:\n",
    "    print(f\"Name: {token['name']}, Symbol: {token['symbol']}, Address: {token['platform']['token_address']}\")\n",
    "\n",
    "# Replace 'your_api_key_here' with your actual API key."
   ]
  },
  {
   "cell_type": "code",
   "execution_count": 3,
   "metadata": {},
   "outputs": [
    {
     "name": "stdout",
     "output_type": "stream",
     "text": [
      "50\n",
      "[{'token': 'Tether USD (USDT)', 'contract_address': '0xdac17f958d2ee523a2206206994597c13d831ec7'}, {'token': 'BNB (BNB)', 'contract_address': '0xB8c77482e45F1F44dE1745F52C74426C631bDD52'}, {'token': 'stETH (stETH)', 'contract_address': '0xae7ab96520de3a18e5e111b5eaab095312d7fe84'}, {'token': 'USDC (USDC)', 'contract_address': '0xa0b86991c6218b36c1d19d4a2e9eb0ce3606eb48'}, {'token': 'XRP (IBC) (XRP)', 'contract_address': '0x628f76eab0c1298f7a24d337bbbf1ef8a1ea6a24'}, {'token': 'Wrapped TON Coin (TONCOIN)', 'contract_address': '0x582d872a1b094fc48f5de31d3b73f2d9be47def1'}, {'token': 'SHIBA INU (SHIB)', 'contract_address': '0x95aD61b0a150d79219dCF64E1E6Cc01f0B64C4cE'}, {'token': 'Wrapped Ether (WETH)', 'contract_address': '0xc02aaa39b223fe8d0a0e5c4f27ead9083c756cc2'}, {'token': 'Wrapped BTC (WBTC)', 'contract_address': '0x2260fac5e5542a773aa44fbcfedf7c193bc2c599'}, {'token': 'ChainLink Token (LINK)', 'contract_address': '0x514910771af9ca656af840dff83e8264ecf986ca'}, {'token': 'Uniswap (UNI)', 'contract_address': '0x1f9840a85d5af5bf1d1762f925bdaddc4201f984'}, {'token': 'NEAR (NEAR)', 'contract_address': '0x85f17cf997934a597031b2e18a9ab6ebd4b9f6a4'}, {'token': 'Wrapped eETH (weETH)', 'contract_address': '0xcd5fe23c85820f7b72d0926fc9b05b43e359b7ee'}, {'token': 'Bitfinex LEO Token (LEO)', 'contract_address': '0x2af5d2ad76741191d15dfe7bf6ac92d4bd912ca3'}, {'token': 'Dai Stablecoin (DAI)', 'contract_address': '0x6b175474e89094c44da98b954eedeac495271d0f'}, {'token': 'Pepe (PEPE)', 'contract_address': '0x6982508145454ce325ddbe47a25d4ec3d2311933'}, {'token': 'Fetch (FET)', 'contract_address': '0xaea46A60368A7bD060eec7DF8CBa43b7EF41Ad85'}, {'token': 'ezETH (Renzo Restaked ETH)', 'contract_address': '0xbf5495Efe5DB9ce00f80364C8B423567e58d2110'}, {'token': 'Render Token (RNDR)', 'contract_address': '0x6de037ef9ad2725eb40118bb1702ebb27e4aeb24'}, {'token': 'Staked USDe (sUSDe)', 'contract_address': '0x9D39A5DE30e57443BfF2A8307A4256c8797A3497'}, {'token': 'USDe (USDe)', 'contract_address': '0x4c9edd5852cd905f086c759e8383e09bff1e68b3'}, {'token': 'Wrapped Filecoin (WFIL)', 'contract_address': '0x6e1A19F235bE7ED8E3369eF73b196C07257494DE'}, {'token': 'First Digital USD (FDUSD)', 'contract_address': '0xc5f0f7b66764F6ec8C8Dff7BA683102295E16409'}, {'token': 'Mantle (MNT)', 'contract_address': '0x3c3a81e81dc49a522a592e7622a7e711c06bf354'}, {'token': 'Immutable X (IMX)', 'contract_address': '0xf57e7e7c23978c3caec3c3548e3d615c346e79ff'}, {'token': 'Cronos Coin (CRO)', 'contract_address': '0xa0b73e1ff0b80914ab6fe0444e65848c4c34450b'}, {'token': 'OKB (OKB)', 'contract_address': '0x75231f58b43240c9718dd58b4967c5114342a86c'}, {'token': 'Arbitrum (ARB)', 'contract_address': '0xB50721BCf8d664c30412Cfbc6cf7a15145234ad1'}, {'token': 'Injective Token (INJ)', 'contract_address': '0xe28b3B32B6c345A34Ff64674606124Dd5Aceca30'}, {'token': 'FLOKI (FLOKI)', 'contract_address': '0xcf0c122c6b73ff809c693db761e7baebe62b6a2e'}, {'token': 'Graph Token (GRT)', 'contract_address': '0xc944e90c64b2c07662a292be6244bdf05cda44a7'}, {'token': 'VeChain (VEN)', 'contract_address': '0xd850942ef8811f2a866692a623011bde52a462c1'}, {'token': 'Maker (MKR)', 'contract_address': '0x9f8f72aa9304c8b593d555f12ef6589cc3a579a2'}, {'token': 'Rocket Pool ETH (rETH)', 'contract_address': '0xae78736cd615f374d3085123a210448e74fc6393'}, {'token': 'Theta Token (THETA)', 'contract_address': '0x3883f5e181fccaf8410fa61e12b59bad963fb645'}, {'token': 'Ondo (ONDO)', 'contract_address': '0xfaba6f8e4a5e8ab82f62fe7c39859fa577269be3'}, {'token': 'mETH (mETH)', 'contract_address': '0xd5f7838f5c461feff7fe49ea5ebaf7728bb0adfa'}, {'token': 'Lido DAO Token (LDO)', 'contract_address': '0x5a98fcbea516cf06857215779fd812ca3bef1b32'}, {'token': 'BitgetToken (BGB)', 'contract_address': '0x19de6b897ed14a376dda0fe53a5420d2ac828a28'}, {'token': 'WBT (WBT)', 'contract_address': '0x925206b8a707096ed26ae47c84747fe0bb734f59'}, {'token': 'Aave Token (AAVE)', 'contract_address': '0x7fc66500c84a76ad7e9c93437bfc5ac33e2ddae9'}, {'token': 'Staked Aave (stkAAVE)', 'contract_address': '0x4da27a545c0c5b758a6ba100e3a049001de870f5'}, {'token': 'Ethena (ENA)', 'contract_address': '0x57e114B691Db790C35207b2e685D4A43181e6061'}, {'token': 'Quant (QNT)', 'contract_address': '0x4a220e6096b25eadb88358cb44068a3248254675'}, {'token': 'Wormhole Token (W)', 'contract_address': '0xb0ffa8000886e57f86dd5264b9582b2ad87b2b91'}, {'token': 'Beam (BEAM)', 'contract_address': '0x62D0A8458eD7719FDAF978fe5929C6D342B0bFcE'}, {'token': 'rsETH (rsETH)', 'contract_address': '0xa1290d69c65a6fe4df752f95823fae25cb99e5a7'}, {'token': 'chiliZ (CHZ)', 'contract_address': '0x3506424f91fd33084466f402d5d97f05f8e3b4af'}, {'token': 'Axie Infinity Shard (AXS)', 'contract_address': '0xbb0e17ef65f82ab018d8edd776e8dd940327b28b'}, {'token': 'BitTorrent (BTT)', 'contract_address': '0xc669928185dbce49d2230cc9b0979be6dc797957'}]\n",
      "{'USDT': '0xdac17f958d2ee523a2206206994597c13d831ec7', 'BNB': '0xB8c77482e45F1F44dE1745F52C74426C631bDD52', 'stETH': '0xae7ab96520de3a18e5e111b5eaab095312d7fe84', 'USDC': '0xa0b86991c6218b36c1d19d4a2e9eb0ce3606eb48', 'XRP': '0x628f76eab0c1298f7a24d337bbbf1ef8a1ea6a24', 'TONCOIN': '0x582d872a1b094fc48f5de31d3b73f2d9be47def1', 'SHIB': '0x95aD61b0a150d79219dCF64E1E6Cc01f0B64C4cE', 'WETH': '0xc02aaa39b223fe8d0a0e5c4f27ead9083c756cc2', 'WBTC': '0x2260fac5e5542a773aa44fbcfedf7c193bc2c599', 'LINK': '0x514910771af9ca656af840dff83e8264ecf986ca', 'UNI': '0x1f9840a85d5af5bf1d1762f925bdaddc4201f984', 'NEAR': '0x85f17cf997934a597031b2e18a9ab6ebd4b9f6a4', 'weETH': '0xcd5fe23c85820f7b72d0926fc9b05b43e359b7ee', 'LEO': '0x2af5d2ad76741191d15dfe7bf6ac92d4bd912ca3', 'DAI': '0x6b175474e89094c44da98b954eedeac495271d0f', 'PEPE': '0x6982508145454ce325ddbe47a25d4ec3d2311933', 'FET': '0xaea46A60368A7bD060eec7DF8CBa43b7EF41Ad85', 'ETH': '0xbf5495Efe5DB9ce00f80364C8B423567e58d2110', 'RNDR': '0x6de037ef9ad2725eb40118bb1702ebb27e4aeb24', 'sUSDe': '0x9D39A5DE30e57443BfF2A8307A4256c8797A3497', 'USDe': '0x4c9edd5852cd905f086c759e8383e09bff1e68b3', 'WFIL': '0x6e1A19F235bE7ED8E3369eF73b196C07257494DE', 'FDUSD': '0xc5f0f7b66764F6ec8C8Dff7BA683102295E16409', 'MNT': '0x3c3a81e81dc49a522a592e7622a7e711c06bf354', 'IMX': '0xf57e7e7c23978c3caec3c3548e3d615c346e79ff', 'CRO': '0xa0b73e1ff0b80914ab6fe0444e65848c4c34450b', 'OKB': '0x75231f58b43240c9718dd58b4967c5114342a86c', 'ARB': '0xB50721BCf8d664c30412Cfbc6cf7a15145234ad1', 'INJ': '0xe28b3B32B6c345A34Ff64674606124Dd5Aceca30', 'FLOKI': '0xcf0c122c6b73ff809c693db761e7baebe62b6a2e', 'GRT': '0xc944e90c64b2c07662a292be6244bdf05cda44a7', 'VEN': '0xd850942ef8811f2a866692a623011bde52a462c1', 'MKR': '0x9f8f72aa9304c8b593d555f12ef6589cc3a579a2', 'rETH': '0xae78736cd615f374d3085123a210448e74fc6393', 'THETA': '0x3883f5e181fccaf8410fa61e12b59bad963fb645', 'ONDO': '0xfaba6f8e4a5e8ab82f62fe7c39859fa577269be3', 'mETH': '0xd5f7838f5c461feff7fe49ea5ebaf7728bb0adfa', 'LDO': '0x5a98fcbea516cf06857215779fd812ca3bef1b32', 'BGB': '0x19de6b897ed14a376dda0fe53a5420d2ac828a28', 'WBT': '0x925206b8a707096ed26ae47c84747fe0bb734f59', 'AAVE': '0x7fc66500c84a76ad7e9c93437bfc5ac33e2ddae9', 'stkAAVE': '0x4da27a545c0c5b758a6ba100e3a049001de870f5', 'ENA': '0x57e114B691Db790C35207b2e685D4A43181e6061', 'QNT': '0x4a220e6096b25eadb88358cb44068a3248254675', 'W': '0xb0ffa8000886e57f86dd5264b9582b2ad87b2b91', 'BEAM': '0x62D0A8458eD7719FDAF978fe5929C6D342B0bFcE', 'rsETH': '0xa1290d69c65a6fe4df752f95823fae25cb99e5a7', 'CHZ': '0x3506424f91fd33084466f402d5d97f05f8e3b4af', 'AXS': '0xbb0e17ef65f82ab018d8edd776e8dd940327b28b', 'BTT': '0xc669928185dbce49d2230cc9b0979be6dc797957'}\n"
     ]
    }
   ],
   "source": [
    "import requests\n",
    "from bs4 import BeautifulSoup\n",
    "\n",
    "\n",
    "def get_erc20_tokens(url):\n",
    "    headers = {\n",
    "        'User-Agent': 'Mozilla/5.0 (Windows NT 10.0; Win64; x64) AppleWebKit/537.36 (KHTML, like Gecko) Chrome/58.0.3029.110 Safari/537.3'\n",
    "    }\n",
    "    response = requests.post(url, headers=headers)\n",
    "    soup = BeautifulSoup(response.content, 'html.parser')\n",
    "\n",
    "    tokens = []\n",
    "    token_mapping = {}\n",
    "    table_body = soup.find('tbody', {'class':'align-middle'})\n",
    "    if table_body:\n",
    "        rows = table_body.find_all('tr')\n",
    "        for row in rows:\n",
    "            columns = row.find_all('td')\n",
    "            if len(columns) >= 2:  # Ensure there are enough columns\n",
    "                token_name = columns[1].text.strip().replace('\\n', ' ')  # Assuming the token name is in the first column\n",
    "                contract_address = columns[1].contents[0].attrs.get('href').split('/')[-1] # Assuming the contract address is in the second column\n",
    "                tokens.append({'token': token_name, 'contract_address': contract_address})\n",
    "                token_mapping.update({token_name.split(' ')[-1].strip('()'): contract_address})\n",
    "    return tokens, token_mapping\n",
    "\n",
    "url = 'https://etherscan.io/tokens'  # Replace with the actual URL\n",
    "tokens, token_mapping = get_erc20_tokens(url)\n",
    "print(len(tokens))\n",
    "print(tokens)\n",
    "print(token_mapping)\n"
   ]
  },
  {
   "cell_type": "code",
   "execution_count": 2,
   "metadata": {},
   "outputs": [],
   "source": [
    "from pydantic import BaseModel\n",
    "\n",
    "\n",
    "class Erc20Token(BaseModel):\n",
    "    name: str\n",
    "    symbol: str\n",
    "    address: str\n"
   ]
  },
  {
   "cell_type": "code",
   "execution_count": 4,
   "metadata": {},
   "outputs": [],
   "source": [
    "import requests\n",
    "import json"
   ]
  },
  {
   "cell_type": "code",
   "execution_count": 5,
   "metadata": {},
   "outputs": [
    {
     "name": "stdout",
     "output_type": "stream",
     "text": [
      "[Erc20Token(name='Tether USD', symbol='USDT', address='0xdac17f958d2ee523a2206206994597c13d831ec7'), Erc20Token(name='BNB', symbol='BNB', address='0xb8c77482e45f1f44de1745f52c74426c631bdd52'), Erc20Token(name='Lido Staked Ether', symbol='stETH', address='0xae7ab96520de3a18e5e111b5eaab095312d7fe84'), Erc20Token(name='USDC', symbol='USDC', address='0xa0b86991c6218b36c1d19d4a2e9eb0ce3606eb48'), Erc20Token(name='Toncoin', symbol='TON', address='0x582d872a1b094fc48f5de31d3b73f2d9be47def1'), Erc20Token(name='Shiba Inu', symbol='SHIB', address='0x95aD61b0a150d79219dCF64E1E6Cc01f0B64C4cE'), Erc20Token(name='Wrapped liquid staked Ether 2.0', symbol='wstETH', address='0x7f39c581f595b53c5cb19bd0b3f8da6c935e2ca0'), Erc20Token(name='Wrapped Ether', symbol='WETH', address='0xc02aaa39b223fe8d0a0e5c4f27ead9083c756cc2'), Erc20Token(name='Wrapped BTC', symbol='WBTC', address='0x2260fac5e5542a773aa44fbcfedf7c193bc2c599'), Erc20Token(name='Chainlink', symbol='LINK', address='0x514910771af9ca656af840dff83e8264ecf986ca'), Erc20Token(name='Uniswap', symbol='UNI', address='0x1f9840a85d5aF5bf1D1762F925BDADdC4201F984'), Erc20Token(name='Polygon', symbol='MATIC', address='0x7d1afa7b718fb893db30a3abc0cfc608aacfebb0'), Erc20Token(name='Dai', symbol='DAI', address='0x6B175474E89094C44Da98b954EedeAC495271d0F'), Erc20Token(name='Wrapped eETH', symbol='weETH', address='0xcd5fe23c85820f7b72d0926fc9b05b43e359b7ee'), Erc20Token(name='PEPE', symbol='PEPE', address='0x6982508145454Ce325dDbE47a25d4ec3d2311933'), Erc20Token(name='Render Token', symbol='RNDR', address='0x6de037ef9ad2725eb40118bb1702ebb27e4aeb24'), Erc20Token(name='Fetch.AI', symbol='FET', address='0xaea46a60368a7bd060eec7df8cba43b7ef41ad85'), Erc20Token(name='NEAR Protocol', symbol='NEAR', address='0x85f17cf997934a597031b2e18a9ab6ebd4b9f6a4'), Erc20Token(name='Immutable X', symbol='IMX', address='0xF57e7e7C23978C3cAEC3C3548E3D615c346e79fF'), Erc20Token(name='Renzo Restaked ETH', symbol='ezETH', address='0xbf5495Efe5DB9ce00f80364C8B423567e58d2110'), Erc20Token(name='USDe', symbol='USDE', address='0x4c9edd5852cd905f086c759e8383e09bff1e68b3'), Erc20Token(name='First Digital USD', symbol='FDUSD', address='0xc5f0f7b66764F6ec8C8Dff7BA683102295E16409'), Erc20Token(name='Mantle', symbol='MNT', address='0x3c3a81e81dc49a522a592e7622a7e711c06bf354'), Erc20Token(name='OKB', symbol='OKB', address='0x75231f58b43240c9718dd58b4967c5114342a86c'), Erc20Token(name='Injective Protocol', symbol='INJ', address='0xe28b3b32b6c345a34ff64674606124dd5aceca30'), Erc20Token(name='ONDO', symbol='ONDO', address='0xfAbA6f8e4a5E8Ab82F62fe7C39859FA577269BE3'), Erc20Token(name='Cosmos', symbol='ATOM', address='0x8D983cb9388EaC77af0474fA441C4815500Cb7BB')]\n"
     ]
    },
    {
     "data": {
      "text/plain": [
       "27"
      ]
     },
     "execution_count": 5,
     "metadata": {},
     "output_type": "execute_result"
    }
   ],
   "source": [
    "def get_erc_20_tokens() -> list[Erc20Token]:\n",
    "    url = 'https://api.coinranking.com/v2/coins'\n",
    "    response = requests.get(url)\n",
    "\n",
    "    result = json.loads(response.text)\n",
    "    coins = result['data']['coins']\n",
    "\n",
    "    filter_erc = lambda coin: any(address.startswith('ethereum/') for address in coin['contractAddresses'])\n",
    "    map_to_eth_address = lambda coin: next((addr.split('/')[1] for addr in coin['contractAddresses'] if addr.startswith('ethereum/')), None)\n",
    "    map_to_token = lambda coin: Erc20Token(\n",
    "        name=coin['name'],\n",
    "        symbol=coin['symbol'],\n",
    "        address=map_to_eth_address(coin)\n",
    "    )\n",
    "    return list(map(map_to_token, filter(filter_erc, coins)))\n",
    "\n",
    "print(get_erc_20_tokens())\n",
    "len(get_erc_20_tokens())\n"
   ]
  }
 ],
 "metadata": {
  "kernelspec": {
   "display_name": "Python 3",
   "language": "python",
   "name": "python3"
  },
  "language_info": {
   "codemirror_mode": {
    "name": "ipython",
    "version": 3
   },
   "file_extension": ".py",
   "mimetype": "text/x-python",
   "name": "python",
   "nbconvert_exporter": "python",
   "pygments_lexer": "ipython3",
   "version": "3.10.12"
  }
 },
 "nbformat": 4,
 "nbformat_minor": 0
}
