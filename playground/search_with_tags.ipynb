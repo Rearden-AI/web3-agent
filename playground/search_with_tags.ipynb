{
 "cells": [
  {
   "cell_type": "code",
   "execution_count": 2,
   "metadata": {},
   "outputs": [
    {
     "name": "stderr",
     "output_type": "stream",
     "text": [
      "/home/serjou/rearden/working/web3-agent/.venv/lib/python3.10/site-packages/tqdm/auto.py:21: TqdmWarning: IProgress not found. Please update jupyter and ipywidgets. See https://ipywidgets.readthedocs.io/en/stable/user_install.html\n",
      "  from .autonotebook import tqdm as notebook_tqdm\n",
      "Fetching 5 files: 100%|██████████| 5/5 [00:00<00:00, 68089.35it/s]\n"
     ]
    }
   ],
   "source": [
    "\n",
    "import chromadb\n",
    "from langchain_community.vectorstores import Chroma\n",
    "\n",
    "from langchain_community.embeddings import FastEmbedEmbeddings\n",
    "\n",
    "from langchain_core.documents import Document\n",
    "\n",
    "client = chromadb.HttpClient(\n",
    "    host=\"localhost\", port=8000\n",
    ")\n",
    "\n",
    "vector_store = Chroma(\n",
    "    client=client,\n",
    "    collection_name=\"knowledge\",\n",
    "    embedding_function=FastEmbedEmbeddings(),\n",
    ")\n",
    "\n",
    "ids = vector_store.get()['ids']\n",
    "\n",
    "def get_document_by_id(document_id: str) -> Document:\n",
    "    \"\"\"Get a document in the collection by its ID.\n",
    "\n",
    "    Args:\n",
    "        document_id (str): ID of the document to get.\n",
    "\n",
    "    Returns:\n",
    "        Document: The document with the given ID.\n",
    "    \"\"\"\n",
    "    result = vector_store.get(ids=[document_id])\n",
    "    if result and \"documents\" in result and result[\"documents\"]:\n",
    "        return Document(page_content=result[\"documents\"][0], metadata=result[\"metadatas\"][0])\n",
    "    else:\n",
    "        return None"
   ]
  },
  {
   "cell_type": "code",
   "execution_count": 6,
   "metadata": {},
   "outputs": [
    {
     "data": {
      "text/plain": [
       "60231"
      ]
     },
     "execution_count": 6,
     "metadata": {},
     "output_type": "execute_result"
    }
   ],
   "source": [
    "docs_count = 0\n",
    "\n",
    "for id in ids:\n",
    "    # print(id)\n",
    "    doc = get_document_by_id(id)\n",
    "    # print(doc)\n",
    "\n",
    "    if \"docs.sui.\" in doc.metadata['source']:\n",
    "        doc.metadata[\"tag\"] = \"sui\"\n",
    "        vector_store.update_document(id, doc)\n",
    "        docs_count += 1\n",
    "    \n",
    "docs_count\n",
    "    "
   ]
  },
  {
   "cell_type": "code",
   "execution_count": 29,
   "metadata": {},
   "outputs": [],
   "source": [
    "def get_retreiver(input):\n",
    "    if \"tag\" in input:\n",
    "        search_kwargs={\n",
    "                \"filter\": {\n",
    "                    \"tag\": input[\"tag\"]\n",
    "                }\n",
    "            }\n",
    "    else:\n",
    "        search_kwargs = {}\n",
    "    \n",
    "    return vector_store.as_retriever(search_kwargs=search_kwargs)"
   ]
  },
  {
   "cell_type": "code",
   "execution_count": 8,
   "metadata": {},
   "outputs": [],
   "source": [
    "from langchain_core.runnables import RunnablePassthrough, Runnable"
   ]
  },
  {
   "cell_type": "code",
   "execution_count": 10,
   "metadata": {},
   "outputs": [],
   "source": [
    "from operator import itemgetter"
   ]
  },
  {
   "cell_type": "code",
   "execution_count": 13,
   "metadata": {},
   "outputs": [],
   "source": [
    "from langchain_core.prompts import PromptTemplate"
   ]
  },
  {
   "cell_type": "code",
   "execution_count": 14,
   "metadata": {},
   "outputs": [],
   "source": [
    "prompt = PromptTemplate.from_template(\n",
    "    \"\"\"\n",
    "    You are an expert in blockchain products consulting.\\\n",
    "    You help newcomers to go deep in crypto world.\\\n",
    "    You know everything about crypto projects.\\\n",
    "    Reply in short, simple and friendly manner.\\\n",
    "    Use provided context to answer user's question.\\\n",
    "    If you can't answer the question, tell so.\\\n",
    "    User doesn't know anything about context, context is your knowledge, don't mention word \\\"context\\\" in the answer, use \\\"knowledgebase\\\" instead.\n",
    "        \n",
    "    Context: {context}\n",
    "\n",
    "    Question: {question}\n",
    "    \"\"\"\n",
    ")"
   ]
  },
  {
   "cell_type": "code",
   "execution_count": 30,
   "metadata": {},
   "outputs": [],
   "source": [
    "\n",
    "\n",
    "chain = (\n",
    "    {\n",
    "        \"context\": get_retreiver,\n",
    "        \"question\": RunnablePassthrough(itemgetter(\"question\")) \n",
    "    }\n",
    "    | prompt\n",
    ")"
   ]
  },
  {
   "cell_type": "code",
   "execution_count": 33,
   "metadata": {},
   "outputs": [
    {
     "name": "stdout",
     "output_type": "stream",
     "text": [
      "\n",
      "    You are an expert in blockchain products consulting.    You help newcomers to go deep in crypto world.    You know everything about crypto projects.    Reply in short, simple and friendly manner.    Use provided context to answer user's question.    If you can't answer the question, tell so.    User doesn't know anything about context, context is your knowledge, don't mention word \"context\" in the answer, use \"knowledgebase\" instead.\n",
      "        \n",
      "    Context: [Document(metadata={'description': \"Objects in Sui can have different types of ownership, with two broad categories: immutable objects and mutable objects. An immutable object is an object that can't be mutated, transferred, or deleted. Immutable objects have no owner, so anyone can use them.\", 'language': 'en', 'source': 'https://docs.sui.io/concepts/object-ownership/immutable', 'tag': 'sui', 'title': 'Immutable Objects | Sui Documentation'}, page_content='This test submits a transaction as `sender1`, which tries to create an\\nimmutable object.\\n\\nThe `has_most_recent_for_sender<ColorObject>` function no longer returns\\n`true`, because the object is no longer owned. To take this object:\\n\\n    \\n    \\n    // Any sender can work.  \\n    let sender2 = @0x2;  \\n    test_scenario::next_tx(scenario, sender2);  \\n    {  \\n        let object = test_scenario::take_immutable<ColorObject>(scenario);  \\n        let (red, green, blue) = color_object::get_color(object);  \\n        assert!(red == 255 && green == 0 && blue == 255, 0);  \\n        test_scenario::return_immutable(object);  \\n    };  \\n    \\n\\nTo show that this object is indeed not owned by anyone, start the next\\ntransaction with `sender2`. Note that it used `take_immutable` and succeeded.\\nThis means that any sender can take an immutable object. To return the object,\\ncall the `return_immutable` function.\\n\\nTo examine whether this object is immutable, add a function that tries to\\nmutate a `ColorObject`:'), Document(metadata={'description': \"Objects in Sui can have different types of ownership, with two broad categories: immutable objects and mutable objects. An immutable object is an object that can't be mutated, transferred, or deleted. Immutable objects have no owner, so anyone can use them.\", 'language': 'en', 'source': 'https://docs.sui.io/concepts/object-ownership/immutable', 'tag': 'sui', 'title': 'Immutable Objects | Sui Documentation'}, page_content='This test submits a transaction as `sender1`, which tries to create an\\nimmutable object.\\n\\nThe `has_most_recent_for_sender<ColorObject>` function no longer returns\\n`true`, because the object is no longer owned. To take this object:\\n\\n    \\n    \\n    // Any sender can work.  \\n    let sender2 = @0x2;  \\n    test_scenario::next_tx(scenario, sender2);  \\n    {  \\n        let object = test_scenario::take_immutable<ColorObject>(scenario);  \\n        let (red, green, blue) = color_object::get_color(object);  \\n        assert!(red == 255 && green == 0 && blue == 255, 0);  \\n        test_scenario::return_immutable(object);  \\n    };  \\n    \\n\\nTo show that this object is indeed not owned by anyone, start the next\\ntransaction with `sender2`. Note that it used `take_immutable` and succeeded.\\nThis means that any sender can take an immutable object. To return the object,\\ncall the `return_immutable` function.\\n\\nTo examine whether this object is immutable, add a function that tries to\\nmutate a `ColorObject`:'), Document(metadata={'description': \"Objects in Sui can have different types of ownership, with two broad categories: immutable objects and mutable objects. An immutable object is an object that can't be mutated, transferred, or deleted. Immutable objects have no owner, so anyone can use them.\", 'language': 'en', 'source': 'https://docs.sui.io/concepts/object-ownership/immutable', 'tag': 'sui', 'title': 'Immutable Objects | Sui Documentation'}, page_content='This test submits a transaction as `sender1`, which tries to create an\\nimmutable object.\\n\\nThe `has_most_recent_for_sender<ColorObject>` function no longer returns\\n`true`, because the object is no longer owned. To take this object:\\n\\n    \\n    \\n    // Any sender can work.  \\n    let sender2 = @0x2;  \\n    test_scenario::next_tx(scenario, sender2);  \\n    {  \\n        let object = test_scenario::take_immutable<ColorObject>(scenario);  \\n        let (red, green, blue) = color_object::get_color(object);  \\n        assert!(red == 255 && green == 0 && blue == 255, 0);  \\n        test_scenario::return_immutable(object);  \\n    };  \\n    \\n\\nTo show that this object is indeed not owned by anyone, start the next\\ntransaction with `sender2`. Note that it used `take_immutable` and succeeded.\\nThis means that any sender can take an immutable object. To return the object,\\ncall the `return_immutable` function.\\n\\nTo examine whether this object is immutable, add a function that tries to\\nmutate a `ColorObject`:'), Document(metadata={'description': \"Objects in Sui can have different types of ownership, with two broad categories: immutable objects and mutable objects. An immutable object is an object that can't be mutated, transferred, or deleted. Immutable objects have no owner, so anyone can use them.\", 'language': 'en', 'source': 'https://docs.sui.io/concepts/object-ownership/immutable', 'tag': 'sui', 'title': 'Immutable Objects | Sui Documentation'}, page_content='This test submits a transaction as `sender1`, which tries to create an\\nimmutable object.\\n\\nThe `has_most_recent_for_sender<ColorObject>` function no longer returns\\n`true`, because the object is no longer owned. To take this object:\\n\\n    \\n    \\n    // Any sender can work.  \\n    let sender2 = @0x2;  \\n    test_scenario::next_tx(scenario, sender2);  \\n    {  \\n        let object = test_scenario::take_immutable<ColorObject>(scenario);  \\n        let (red, green, blue) = color_object::get_color(object);  \\n        assert!(red == 255 && green == 0 && blue == 255, 0);  \\n        test_scenario::return_immutable(object);  \\n    };  \\n    \\n\\nTo show that this object is indeed not owned by anyone, start the next\\ntransaction with `sender2`. Note that it used `take_immutable` and succeeded.\\nThis means that any sender can take an immutable object. To return the object,\\ncall the `return_immutable` function.\\n\\nTo examine whether this object is immutable, add a function that tries to\\nmutate a `ColorObject`:')]\n",
      "\n",
      "    Question: {'question': 'How does it work?'}\n",
      "    \n"
     ]
    }
   ],
   "source": [
    "print(chain.invoke({\n",
    "    # \"tag\": \"wormhole\",\n",
    "    \"question\": \"How does it work?\"\n",
    "}).text)"
   ]
  },
  {
   "cell_type": "code",
   "execution_count": null,
   "metadata": {},
   "outputs": [],
   "source": []
  }
 ],
 "metadata": {
  "kernelspec": {
   "display_name": "Python 3",
   "language": "python",
   "name": "python3"
  },
  "language_info": {
   "codemirror_mode": {
    "name": "ipython",
    "version": 3
   },
   "file_extension": ".py",
   "mimetype": "text/x-python",
   "name": "python",
   "nbconvert_exporter": "python",
   "pygments_lexer": "ipython3",
   "version": "3.10.12"
  }
 },
 "nbformat": 4,
 "nbformat_minor": 2
}
