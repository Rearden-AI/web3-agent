{
 "cells": [
  {
   "cell_type": "code",
   "execution_count": 1,
   "metadata": {},
   "outputs": [],
   "source": [
    "!pip -q install -U langchain_community"
   ]
  },
  {
   "cell_type": "code",
   "execution_count": 2,
   "metadata": {},
   "outputs": [],
   "source": [
    "!pip -q install -U langchain langgraph "
   ]
  },
  {
   "cell_type": "code",
   "execution_count": 1,
   "metadata": {},
   "outputs": [],
   "source": [
    "import os\n",
    "\n",
    "os.environ[\"GROQ_API_KEY\"]"
   ]
  },
  {
   "cell_type": "code",
   "execution_count": 2,
   "metadata": {},
   "outputs": [
    {
     "ename": "ModuleNotFoundError",
     "evalue": "No module named 'langchain_groq'",
     "output_type": "error",
     "traceback": [
      "\u001B[0;31m---------------------------------------------------------------------------\u001B[0m",
      "\u001B[0;31mModuleNotFoundError\u001B[0m                       Traceback (most recent call last)",
      "Cell \u001B[0;32mIn[2], line 1\u001B[0m\n\u001B[0;32m----> 1\u001B[0m \u001B[38;5;28;01mfrom\u001B[39;00m \u001B[38;5;21;01mlangchain_groq\u001B[39;00m \u001B[38;5;28;01mimport\u001B[39;00m ChatGroq\n\u001B[1;32m      3\u001B[0m groq_model \u001B[38;5;241m=\u001B[39m ChatGroq(model\u001B[38;5;241m=\u001B[39m\u001B[38;5;124m\"\u001B[39m\u001B[38;5;124mllama3-70b-8192\u001B[39m\u001B[38;5;124m\"\u001B[39m)\n",
      "\u001B[0;31mModuleNotFoundError\u001B[0m: No module named 'langchain_groq'"
     ]
    }
   ],
   "source": [
    "from langchain_groq import ChatGroq\n",
    "\n",
    "groq_model = ChatGroq(model=\"llama3-70b-8192\")"
   ]
  },
  {
   "cell_type": "code",
   "execution_count": 2,
   "metadata": {},
   "outputs": [],
   "source": [
    "from langchain_community.llms import Ollama\n",
    "\n",
    "ollama_model = Ollama(model='llama3')"
   ]
  },
  {
   "cell_type": "code",
   "execution_count": 5,
   "metadata": {},
   "outputs": [],
   "source": [
    "model = groq_model"
   ]
  },
  {
   "cell_type": "code",
   "execution_count": null,
   "metadata": {},
   "outputs": [],
   "source": [
    "model = ollama_model"
   ]
  },
  {
   "cell_type": "code",
   "execution_count": 6,
   "metadata": {},
   "outputs": [
    {
     "data": {
      "text/plain": [
       "\"Here's one:\\n\\nWhy couldn't the bicycle stand up by itself?\\n\\n(Wait for it...)\\n\\nBecause it was two-tired!\\n\\nHope that made you smile!\""
      ]
     },
     "execution_count": 6,
     "metadata": {},
     "output_type": "execute_result"
    }
   ],
   "source": [
    "model.invoke('Tell me a joke')"
   ]
  },
  {
   "cell_type": "code",
   "execution_count": 3,
   "metadata": {},
   "outputs": [
    {
     "data": {
      "text/plain": [
       "AIMessage(content=\"Why couldn't the bicycle stand up by itself?\\n\\nBecause it was two-tired!\", response_metadata={'token_usage': {'completion_tokens': 17, 'prompt_tokens': 14, 'total_tokens': 31, 'completion_time': 0.055098735, 'prompt_time': 0.006721211, 'queue_time': None, 'total_time': 0.061819946}, 'model_name': 'llama3-70b-8192', 'system_fingerprint': 'fp_753a4aecf6', 'finish_reason': 'stop', 'logprobs': None}, id='run-006c7923-731b-4841-bbe9-5fd94df78a24-0')"
      ]
     },
     "execution_count": 3,
     "metadata": {},
     "output_type": "execute_result"
    }
   ],
   "source": [
    "groq_model.invoke('Tell me a joke')"
   ]
  },
  {
   "cell_type": "code",
   "execution_count": 6,
   "metadata": {},
   "outputs": [],
   "source": [
    "from langchain.prompts import PromptTemplate\n",
    "from langchain_core.output_parsers import StrOutputParser \n",
    "from langchain_core.runnables import (\n",
    "    RunnableLambda,\n",
    "    RunnableParallel,\n",
    "    RunnablePassthrough,\n",
    ")\n",
    "\n",
    "from typing import Callable "
   ]
  },
  {
   "cell_type": "code",
   "execution_count": 28,
   "metadata": {},
   "outputs": [],
   "source": [
    "# user_request_categories = {\n",
    "#     'project_help': 'when someone is asking for help with project from list: starknet, wormhole',\n",
    "#     'investment_help': 'when someone is asking for help with investments in crypto',\n",
    "#     'off_topic': 'it doesnt relate to any other category'\n",
    "# }\n",
    "\n",
    "user_request_categories = {\n",
    "    'execute_action': 'when user wants to perform an action or asking how he can perform an action',\n",
    "    'ask_for_data': 'when user is asking for a data',\n",
    "    'off_topic': 'it doesnt relate to any other category'\n",
    "}"
   ]
  },
  {
   "cell_type": "code",
   "execution_count": 29,
   "metadata": {},
   "outputs": [],
   "source": [
    "categorize_request_prompt = PromptTemplate(\n",
    "    template= \"\"\"<|begin_of_text|><|start_header_id|>system<|end_header_id|>\n",
    "    You are User Request Categorizer Agent You are master at understanding what a user wants to ask in chat and are able to categorize it in a useful way\n",
    "\n",
    "    <|eot_id|><|start_header_id|>user<|end_header_id|>\n",
    "    Conduct a comprehensive analysis of the user message provided and categorize into one of the following categories:\n",
    "        {catrgories_desctiptions}\n",
    "        \n",
    "            Output ONLY a single cetgory only from the types: {category_list} \\\n",
    "            eg:\n",
    "            off_topic \\\n",
    "\n",
    "    USER MESSAGE:\\n\\n {user_message} \\n\\n\n",
    "    <|eot_id|>\n",
    "    <|start_header_id|>assistant<|end_header_id|>\n",
    "    \"\"\",\n",
    "    input_variables=[\"user_message\", \"catrgories_desctiptions\"]\n",
    ")\n",
    "\n",
    "catrgories_desctiptions = '\\n'.join(map(lambda x: f\"{x[0]} - {x[1]}\", user_request_categories.items()))\n",
    "category_list = ', '.join(map(lambda x: f'\"{x}\"', user_request_categories.keys()))\n",
    "\n",
    "# chain = { \"user_message\": RunnablePassthrough() }\n",
    "# chain.invoke('blabla', config={\"catrgories_desctiptions\": catrgories_desctiptions, \"category_list\": category_list})\n",
    "\n",
    "user_message_category_generator = (\n",
    "    {\n",
    "        \"catrgories_desctiptions\": lambda _: catrgories_desctiptions,\n",
    "        \"category_list\": lambda _: category_list,\n",
    "        \"user_message\": RunnablePassthrough()\n",
    "    }\n",
    "    | categorize_request_prompt\n",
    "    | model\n",
    "    | StrOutputParser()\n",
    ")\n"
   ]
  },
  {
   "cell_type": "code",
   "execution_count": 8,
   "metadata": {},
   "outputs": [],
   "source": [
    "prompts = [\n",
    "    'what is Sui and how it is better than others??',\n",
    "    'Is there any NFT projects on Sui?',\n",
    "    'can I buy a test NFTs on SUi?'\n",
    "]"
   ]
  },
  {
   "cell_type": "code",
   "execution_count": 30,
   "metadata": {},
   "outputs": [
    {
     "name": "stdout",
     "output_type": "stream",
     "text": [
      "what is Sui and how it is better than others?? - ask_for_data\n",
      "Is there any NFT projects on Sui? - ask_for_data\n",
      "can I buy a test NFTs on SUi? - execute_action\n"
     ]
    }
   ],
   "source": [
    "for prompt in prompts:\n",
    "    print(f\"{prompt} - {user_message_category_generator.invoke(prompt)}\")"
   ]
  },
  {
   "cell_type": "code",
   "execution_count": 7,
   "metadata": {},
   "outputs": [
    {
     "data": {
      "text/plain": [
       "'investment_help'"
      ]
     },
     "execution_count": 7,
     "metadata": {},
     "output_type": "execute_result"
    }
   ],
   "source": [
    "USER_MESSAGE = 'Hi! How can I earn yield on my ETH?'\n",
    "\n",
    "user_message_category_generator.invoke({\"user_message\": USER_MESSAGE})"
   ]
  },
  {
   "cell_type": "code",
   "execution_count": 58,
   "metadata": {},
   "outputs": [],
   "source": [
    "test_investment_help = [\n",
    "    'Hi! How can I earn yield on my ETH?',\n",
    "    'I need a conservative strategy for my long-term ETH holdings.',\n",
    "    'Hey, how can i earn with my eth?',\n",
    "    'what are investment strategies for eth?',\n",
    "    'where to invest eth?',\n",
    "    'what investment opportunities are for eth?',\n",
    "    'any ideas for income with eth?',\n",
    "    'how to make money on my crypto?',\n",
    "    'how to get rich in crypto?',\n",
    "    'suggest me with investment?',\n",
    "    'suggest me where to invest in crypto?'\n",
    "]\n",
    "\n",
    "test_project_help = [\n",
    "    # wormhole\n",
    "    'What can Wormhole be used for?',\n",
    "    'What is the role of VAAs in the Wormhole protocol, and how are they validated and processed?',\n",
    "    'What are the key on-chain components involved in the Wormhole protocol, and how do they facilitate cross-chain communication?',\n",
    "    'What are the off-chain components in the Wormhole protocol, and what roles do they play in facilitating cross-chain communication?',\n",
    "    'How do Core Contracts function within the Wormhole protocol, and what roles do the sending and receiving sides of these contracts play?',\n",
    "    'Hello, can you tell me about Wormhole Guardian Network properties?',\n",
    "    'Hello. maybe you know something about wormhole Connect or something like that?',\n",
    "    'Can you tell me how the wormhole contract works',\n",
    "    'How are VAAs uniquely identified, and how can they be retrieved in the Wormhole protocol? Please write it with details',\n",
    "    'Please tell me about the blockchains supported by Wormhole',\n",
    "    'can you write me properties of avalanche and Ethereum blockchains supported by wormhole',\n",
    "    'Please tell me about wormhole tutorials.',\n",
    "    'What the difference between wormhole token bridge and NFT bridge?',\n",
    "    'what can you tell me about Standard Relayer and Specialized Relayer, which is better?',\n",
    "\n",
    "    #starknet\n",
    "    'how does starknet works?',\n",
    "    'Hi, Please tell me about Starknet benefits',\n",
    "    'which tolls I need to for working with Starknet?',\n",
    "    'How can I install scarb on Windows? Please write me some tutorial',\n",
    "    'Can you tell me something about Transaction flow in Starknet?',\n",
    "    'Can you tell me about StarkGate Bridge?',\n",
    "    'How can I transfer some tokens from Layer1 to layer2? Please write me instruction.',\n",
    "    'Tell me about Starknet smart contract',\n",
    "    'Can you tell me what the difference between Starkli and Scarb',\n",
    "    'What between installation Scarb on  MacOS and Windows? Which is faster?',\n",
    "    'Can you tell me about first and last release versions of starknet',\n",
    "    'What the difference between L1 AND L2 contracts on Starknet',\n",
    "    'What The difference between API providers and Node Providers?',\n",
    "    'Can you tell me about Starknet cryptography? What the Difference between Stark Field and Stark curve',\n",
    "]\n",
    "\n",
    "test_offtop = [\n",
    "    'Why is the sky blue?',\n",
    "    'what is the current price of bitcoin?',\n",
    "    'what is uniswap?'\n",
    "]\n"
   ]
  },
  {
   "cell_type": "code",
   "execution_count": 6,
   "metadata": {},
   "outputs": [
    {
     "name": "stdout",
     "output_type": "stream",
     "text": [
      "Hi! How can I earn yield on my ETH? - investment_help\n",
      "I need a conservative strategy for my long-term ETH holdings. - investment_help\n",
      "Hey, how can i earn with my eth? - investment_help\n",
      "what are investment strategies for eth? - investment_help\n",
      "where to invest eth? - investment_help\n",
      "what investment opportunities are for eth? - investment_help\n",
      "any ideas for income with eth? - 'investment_help'\n",
      "how to make money on my crypto? - investment_help\n",
      "how to get rich in crypto? - investment_help\n",
      "suggest me with investment? - investment_help\n",
      "suggest me where to invest in crypto? - investment_help\n",
      "What can Wormhole be used for? - 'project_help'\n",
      "What is the role of VAAs in the Wormhole protocol, and how are they validated and processed? - 'project_help'\n",
      "What are the key on-chain components involved in the Wormhole protocol, and how do they facilitate cross-chain communication? - 'project_help'\n",
      "What are the off-chain components in the Wormhole protocol, and what roles do they play in facilitating cross-chain communication? - 'project_help'\n",
      "How do Core Contracts function within the Wormhole protocol, and what roles do the sending and receiving sides of these contracts play? - 'project_help'\n",
      "Hello, can you tell me about Wormhole Guardian Network properties? - 'project_help'\n",
      "Hello. maybe you know something about wormhole Connect or something like that? - 'project_help'\n",
      "Can you tell me how the wormhole contract works - 'project_help'\n",
      "How are VAAs uniquely identified, and how can they be retrieved in the Wormhole protocol? Please write it with details - 'project_help'\n",
      "Please tell me about the blockchains supported by Wormhole - 'project_help'\n",
      "can you write me properties of avalanche and Ethereum blockchains supported by wormhole - 'project_help'\n",
      "Please tell me about wormhole tutorials. - 'project_help'\n",
      "What the difference between wormhole token bridge and NFT bridge? - 'project_help'\n",
      "what can you tell me about Standard Relayer and Specialized Relayer, which is better? - 'project_help'\n",
      "how does starknet works? - 'project_help'\n",
      "Why is the sky blue? - 'off_topic'\n",
      "what is the current price of bitcoin? - investment_help\n"
     ]
    }
   ],
   "source": [
    "user_messages = [\n",
    "   \n",
    "]\n",
    "\n",
    "for user_message in user_messages:\n",
    "    print(f\"{user_message} - {user_message_category_generator.invoke({'user_message': user_message})}\")"
   ]
  },
  {
   "cell_type": "code",
   "execution_count": 12,
   "metadata": {},
   "outputs": [
    {
     "name": "stdout",
     "output_type": "stream",
     "text": [
      "Hi! How can I earn yield on my ETH? - investment_help\n",
      "I need a conservative strategy for my long-term ETH holdings. - investment_help\n",
      "Hey, how can i earn with my eth? - investment_help\n",
      "what are investment strategies for eth? - investment_help\n",
      "where to invest eth? - investment_help\n",
      "what investment opportunities are for eth? - 'investment_help'\n",
      "any ideas for income with eth? - investment_help\n",
      "how to make money on my crypto? - investment_help\n",
      "how to get rich in crypto? - investment_help\n",
      "suggest me with investment? - 'investment_help'\n",
      "suggest me where to invest in crypto? - investment_help\n",
      "What can Wormhole be used for? - 'project_help'\n",
      "What is the role of VAAs in the Wormhole protocol, and how are they validated and processed? - 'project_help'\n",
      "What are the key on-chain components involved in the Wormhole protocol, and how do they facilitate cross-chain communication? - 'project_help'\n",
      "What are the off-chain components in the Wormhole protocol, and what roles do they play in facilitating cross-chain communication? - 'project_help'\n",
      "How do Core Contracts function within the Wormhole protocol, and what roles do the sending and receiving sides of these contracts play? - 'project_help'\n",
      "Hello, can you tell me about Wormhole Guardian Network properties? - 'project_help'\n",
      "Hello. maybe you know something about wormhole Connect or something like that? - 'project_help'\n",
      "Can you tell me how the wormhole contract works - 'project_help'\n",
      "How are VAAs uniquely identified, and how can they be retrieved in the Wormhole protocol? Please write it with details - 'project_help'\n",
      "Please tell me about the blockchains supported by Wormhole - 'project_help'\n",
      "can you write me properties of avalanche and Ethereum blockchains supported by wormhole - 'project_help'\n",
      "Please tell me about wormhole tutorials. - 'project_help'\n",
      "What the difference between wormhole token bridge and NFT bridge? - 'investment_help'\n",
      "what can you tell me about Standard Relayer and Specialized Relayer, which is better? - 'project_help'\n",
      "how does starknet works? - 'project_help'\n",
      "Why is the sky blue? - 'off_topic'\n",
      "what is the current price of bitcoin? - 'investment_help'\n"
     ]
    }
   ],
   "source": [
    "user_messages = [\n",
    "    'Hi! How can I earn yield on my ETH?',\n",
    "    'I need a conservative strategy for my long-term ETH holdings.',\n",
    "    'Hey, how can i earn with my eth?',\n",
    "    'what are investment strategies for eth?',\n",
    "    'where to invest eth?',\n",
    "    'what investment opportunities are for eth?',\n",
    "    'any ideas for income with eth?',\n",
    "    'how to make money on my crypto?',\n",
    "    'how to get rich in crypto?',\n",
    "    'suggest me with investment?',\n",
    "    'suggest me where to invest in crypto?',\n",
    "\n",
    "    # wormhole\n",
    "    'What can Wormhole be used for?',\n",
    "    'What is the role of VAAs in the Wormhole protocol, and how are they validated and processed?',\n",
    "    'What are the key on-chain components involved in the Wormhole protocol, and how do they facilitate cross-chain communication?',\n",
    "    'What are the off-chain components in the Wormhole protocol, and what roles do they play in facilitating cross-chain communication?',\n",
    "    'How do Core Contracts function within the Wormhole protocol, and what roles do the sending and receiving sides of these contracts play?',\n",
    "    'Hello, can you tell me about Wormhole Guardian Network properties?',\n",
    "    'Hello. maybe you know something about wormhole Connect or something like that?',\n",
    "    'Can you tell me how the wormhole contract works',\n",
    "    'How are VAAs uniquely identified, and how can they be retrieved in the Wormhole protocol? Please write it with details',\n",
    "    'Please tell me about the blockchains supported by Wormhole',\n",
    "    'can you write me properties of avalanche and Ethereum blockchains supported by wormhole',\n",
    "    'Please tell me about wormhole tutorials.',\n",
    "    'What the difference between wormhole token bridge and NFT bridge?',\n",
    "    'what can you tell me about Standard Relayer and Specialized Relayer, which is better?',\n",
    "\n",
    "    # starknet\n",
    "    'how does starknet works?',\n",
    "\n",
    "    # offtop\n",
    "    'Why is the sky blue?',\n",
    "    'what is the current price of bitcoin?'\n",
    "]\n",
    "\n",
    "for user_message in user_messages:\n",
    "    print(f\"{user_message} - {user_message_category_generator.invoke({'user_message': user_message})}\")"
   ]
  },
  {
   "cell_type": "code",
   "execution_count": 1,
   "metadata": {},
   "outputs": [],
   "source": [
    "from langchain.schema import Document\n",
    "from langgraph.graph import END, StateGraph"
   ]
  },
  {
   "cell_type": "code",
   "execution_count": 23,
   "metadata": {},
   "outputs": [],
   "source": [
    "from typing_extensions import TypedDict\n",
    "from typing_extensions import Literal\n",
    "# from typing import List\n",
    "\n",
    "class ChatMessageFlowState(TypedDict):\n",
    "    user_message: str\n",
    "    message_category: str\n",
    "    num_steps : int"
   ]
  },
  {
   "cell_type": "code",
   "execution_count": 49,
   "metadata": {},
   "outputs": [],
   "source": [
    "def categorize_user_request(state: ChatMessageFlowState):\n",
    "    # print('Categorizing message')\n",
    "\n",
    "    user_message = state['user_message']\n",
    "    num_steps = int(state['num_steps'])\n",
    "    num_steps += 1\n",
    "\n",
    "    message_category = user_message_category_generator.invoke({'user_message': user_message})\n",
    "    # print(message_category)\n",
    "\n",
    "    return {'message_category': message_category, 'num_steps': num_steps}"
   ]
  },
  {
   "cell_type": "code",
   "execution_count": 50,
   "metadata": {},
   "outputs": [],
   "source": [
    "def categorize_user_router(state: ChatMessageFlowState):\n",
    "    return state['message_category']"
   ]
  },
  {
   "cell_type": "code",
   "execution_count": 51,
   "metadata": {},
   "outputs": [],
   "source": [
    "def dummy_1(state: ChatMessageFlowState):\n",
    "    # print('dummy 1')\n",
    "    # print(state['message_category'])\n",
    "\n",
    "    num_steps = int(state['num_steps'])\n",
    "    num_steps += 1\n",
    "\n",
    "    return {'num_steps': num_steps}"
   ]
  },
  {
   "cell_type": "code",
   "execution_count": 52,
   "metadata": {},
   "outputs": [],
   "source": [
    "def dummy_2(state: ChatMessageFlowState):\n",
    "    # print('dummy 2')\n",
    "    # print(state['message_category'])\n",
    "\n",
    "    num_steps = int(state['num_steps'])\n",
    "    num_steps += 1\n",
    "\n",
    "    return {'num_steps': num_steps}"
   ]
  },
  {
   "cell_type": "code",
   "execution_count": 53,
   "metadata": {},
   "outputs": [],
   "source": [
    "def dummy_3(state: ChatMessageFlowState):\n",
    "    # print('dummy 3', state['message_category'])\n",
    "\n",
    "    num_steps = int(state['num_steps'])\n",
    "    num_steps += 1\n",
    "\n",
    "    return {'num_steps': num_steps}"
   ]
  },
  {
   "cell_type": "code",
   "execution_count": 54,
   "metadata": {},
   "outputs": [],
   "source": [
    "workflow = StateGraph(ChatMessageFlowState)\n",
    "\n",
    "workflow.add_node('categorize_user_request', categorize_user_request)\n",
    "workflow.add_node('dummy_1', dummy_1)\n",
    "workflow.add_node('dummy_2', dummy_2)\n",
    "workflow.add_node('dummy_3', dummy_3)\n",
    "\n",
    "workflow.add_conditional_edges(\n",
    "    'categorize_user_request',\n",
    "    categorize_user_router,\n",
    "        {\n",
    "            'project_help': 'dummy_1',\n",
    "            'investment_help': 'dummy_2',\n",
    "            'off_topic': 'dummy_3'\n",
    "        }\n",
    "    )\n",
    "\n",
    "workflow.set_entry_point('categorize_user_request')\n",
    "\n",
    "# workflow.add_node('categorize_user_request', categorize_user_request)\n",
    "\n",
    "# workflow.add_edge(['dummy_1', 'dummy_2', 'dummy_3'], END)\n",
    "workflow.add_edge('dummy_1', END)\n",
    "workflow.add_edge('dummy_2', END)\n",
    "workflow.add_edge('dummy_3', END)"
   ]
  },
  {
   "cell_type": "code",
   "execution_count": 55,
   "metadata": {},
   "outputs": [],
   "source": [
    "app = workflow.compile()"
   ]
  },
  {
   "cell_type": "code",
   "execution_count": 39,
   "metadata": {},
   "outputs": [
    {
     "name": "stdout",
     "output_type": "stream",
     "text": [
      "Categorizing message\n",
      "investment_help\n",
      "dummy 2\n",
      "investment_help\n",
      "investment_help\n"
     ]
    }
   ],
   "source": [
    "inputs = {'user_message': 'Hi! How can I earn yield on my ETH?', \"num_steps\": 0}\n",
    "result = app.invoke(inputs)\n",
    "\n",
    "print(result['message_category'])"
   ]
  },
  {
   "cell_type": "code",
   "execution_count": 69,
   "metadata": {},
   "outputs": [
    {
     "name": "stdout",
     "output_type": "stream",
     "text": [
      "checking invesment help\n",
      "checking project help\n",
      "checking offtop\n",
      "investment help: 11 of 11\n",
      "failed: []\n",
      "project help: 28 of 28\n",
      "failed: []\n",
      "offtop: 1 of 3\n",
      "failed: [{'what is the current price of bitcoin?': 'investment_help'}, {'what is uniswap?': 'investment_help'}]\n"
     ]
    }
   ],
   "source": [
    "investment_help_count = 0\n",
    "investment_help_failed = []\n",
    "print('checking invesment help')\n",
    "for user_message in test_investment_help:\n",
    "    inputs = {'user_message': user_message, \"num_steps\": 0}\n",
    "    # print(user_message)\n",
    "    result = app.invoke(inputs)\n",
    "    investment_help_count += 1\n",
    "    if result['message_category'] != 'investment_help':\n",
    "        investment_help_failed.append({user_message: result['message_category']})\n",
    "\n",
    "project_help_count = 0\n",
    "project_help_failed = []\n",
    "print('checking project help')\n",
    "for user_message in test_project_help:\n",
    "    inputs = {'user_message': user_message, \"num_steps\": 0}\n",
    "    # print(user_message)\n",
    "    result = app.invoke(inputs)\n",
    "    project_help_count += 1\n",
    "    if result['message_category'] != 'project_help':\n",
    "        project_help_failed.append({user_message: result['message_category']})\n",
    "\n",
    "\n",
    "offtop_count = 0\n",
    "offtop_failed = []\n",
    "print('checking offtop')\n",
    "for user_message in test_offtop:\n",
    "    inputs = {'user_message': user_message, \"num_steps\": 0}\n",
    "    # print(user_message)\n",
    "    result = app.invoke(inputs)\n",
    "    offtop_count += 1\n",
    "    if result['message_category'] != 'off_topic':\n",
    "        offtop_failed.append({user_message: result['message_category']})\n",
    "\n",
    "print('investment help:', f\"{investment_help_count - len(investment_help_failed)} of {investment_help_count}\")\n",
    "print(f'failed: {investment_help_failed}')\n",
    "\n",
    "\n",
    "print('project help:', f\"{project_help_count - len(project_help_failed)} of {project_help_count}\")\n",
    "print(f'failed: {project_help_failed}')\n",
    "\n",
    "print('offtop:', f\"{offtop_count - len(offtop_failed)} of {offtop_count}\")\n",
    "print(f'failed: {offtop_failed}')\n"
   ]
  }
 ],
 "metadata": {
  "kernelspec": {
   "display_name": "rearden.311.2",
   "language": "python",
   "name": "python3"
  },
  "language_info": {
   "codemirror_mode": {
    "name": "ipython",
    "version": 3
   },
   "file_extension": ".py",
   "mimetype": "text/x-python",
   "name": "python",
   "nbconvert_exporter": "python",
   "pygments_lexer": "ipython3",
   "version": "3.10.12"
  }
 },
 "nbformat": 4,
 "nbformat_minor": 2
}
